{
 "cells": [
  {
   "cell_type": "markdown",
   "id": "86aa0f8d-5ff4-49f6-b6f2-d3b83bdcc065",
   "metadata": {},
   "source": [
    "The same as \"pytorch_training_loop\" but better :)"
   ]
  },
  {
   "cell_type": "code",
   "execution_count": 2,
   "id": "cc26abe7-5d61-4595-976b-8b9aed0ee5bd",
   "metadata": {},
   "outputs": [],
   "source": [
    "import torch\n",
    "import numpy as np\n",
    "import pandas as pd\n",
    "import os\n",
    "import h5py\n",
    "from exabiome.nn.loader import read_dataset, LazySeqDataset\n",
    "import argparse\n",
    "from torch.utils.data import Dataset, DataLoader\n",
    "import torch.nn as nn\n",
    "from model import *\n",
    "from data import *\n",
    "from fastai.text.all import *"
   ]
  },
  {
   "cell_type": "code",
   "execution_count": 3,
   "id": "e6c155c6-a4dd-4cef-b65c-687322e1ddde",
   "metadata": {},
   "outputs": [
    {
     "data": {
      "text/plain": [
       "((19010, 4097), (19010, 2))"
      ]
     },
     "execution_count": 3,
     "metadata": {},
     "output_type": "execute_result"
    }
   ],
   "source": [
    "df_x = pd.read_csv('data/toy_x.csv')\n",
    "df_y = pd.read_csv('data/toy_y.csv')\n",
    "df_x.shape, df_y.shape"
   ]
  },
  {
   "cell_type": "code",
   "execution_count": 4,
   "id": "163cd53e-93fa-41e7-a6bf-69c8253aaac3",
   "metadata": {},
   "outputs": [],
   "source": [
    "class FastDs(Dataset):\n",
    "    def __init__(self, df_x, df_y):\n",
    "        self.x = df_x\n",
    "        self.y = df_y\n",
    "    def __len__(self):\n",
    "        return len(self.x)\n",
    "    def __getitem__(self, idx):\n",
    "        x = self.x.iloc[idx][1:]\n",
    "        y = self.y.iloc[idx][1:]\n",
    "        return torch.Tensor(x).unsqueeze(0), torch.Tensor(y).to(torch.long)"
   ]
  },
  {
   "cell_type": "code",
   "execution_count": 5,
   "id": "aa2842fb-ed49-489b-81d0-5f00235da34e",
   "metadata": {},
   "outputs": [
    {
     "data": {
      "text/plain": [
       "(17010, 2000)"
      ]
     },
     "execution_count": 5,
     "metadata": {},
     "output_type": "execute_result"
    }
   ],
   "source": [
    "train_ds = FastDs(df_x[:-2000], df_y[:-2000])\n",
    "valid_ds = FastDs(df_x[-2000:], df_y[-2000:])\n",
    "len(train_ds), len(valid_ds)"
   ]
  },
  {
   "cell_type": "code",
   "execution_count": 6,
   "id": "63de9c70-c9b4-4cfc-a755-a3922a2fa8c0",
   "metadata": {},
   "outputs": [
    {
     "data": {
      "text/plain": [
       "(1063, 125)"
      ]
     },
     "execution_count": 6,
     "metadata": {},
     "output_type": "execute_result"
    }
   ],
   "source": [
    "train_dl = DataLoader(train_ds, batch_size=16, shuffle=True, drop_last=True)\n",
    "valid_dl = DataLoader(valid_ds, batch_size=16, shuffle=False, drop_last=True)\n",
    "len(train_dl), len(valid_dl)"
   ]
  },
  {
   "cell_type": "code",
   "execution_count": 7,
   "id": "7a1d08d6-8175-4495-bcb2-bd08f4ac95ff",
   "metadata": {},
   "outputs": [],
   "source": [
    "#DataLoade"
   ]
  },
  {
   "cell_type": "code",
   "execution_count": 7,
   "id": "6f2520d7-09c2-4e0b-b066-292ef3b13941",
   "metadata": {},
   "outputs": [
    {
     "data": {
      "text/plain": [
       "(2, torch.Size([16, 1, 4096]), torch.Size([16, 1]))"
      ]
     },
     "execution_count": 7,
     "metadata": {},
     "output_type": "execute_result"
    }
   ],
   "source": [
    "batch = next(iter(train_dl))\n",
    "len(batch), batch[0].shape, batch[1].shape"
   ]
  },
  {
   "cell_type": "code",
   "execution_count": 10,
   "id": "35df7e13-bf9d-4e3b-8d8c-f687e6599f88",
   "metadata": {},
   "outputs": [
    {
     "data": {
      "text/plain": [
       "torch.Size([16, 18, 16])"
      ]
     },
     "execution_count": 10,
     "metadata": {},
     "output_type": "execute_result"
    }
   ],
   "source": [
    "model = EffNet_b0(out_feats=16)\n",
    "out = model(batch[0])\n",
    "out.shape"
   ]
  },
  {
   "cell_type": "code",
   "execution_count": 12,
   "id": "0500d5f3-3b7d-4c35-b55f-eac14cd89e01",
   "metadata": {},
   "outputs": [],
   "source": [
    "#model"
   ]
  },
  {
   "cell_type": "code",
   "execution_count": 10,
   "id": "fc1e103d-6742-4f1c-83f4-723234a7028c",
   "metadata": {},
   "outputs": [],
   "source": [
    "dls = DataLoaders(train_dl, valid_dl)"
   ]
  },
  {
   "cell_type": "markdown",
   "id": "8bf401f7-ea30-45e1-9c49-b6d72062394c",
   "metadata": {},
   "source": [
    "As a reminder, we're just playing around here -- a proper validation set should be used and not just the same dataloader as the training set :)"
   ]
  },
  {
   "cell_type": "code",
   "execution_count": 14,
   "id": "3c71e6e0-9274-4c83-ade5-6f24d93422e2",
   "metadata": {},
   "outputs": [],
   "source": [
    "learn = Learner(dls, model, loss_func=nn.CrossEntropyLoss())"
   ]
  },
  {
   "cell_type": "markdown",
   "id": "ba074d8c-53ee-4280-a562-0b612226e26e",
   "metadata": {},
   "source": [
    "Trying to train this model will not work -- out of the box -- this can be confirmed by uncommenting the line below"
   ]
  },
  {
   "cell_type": "code",
   "execution_count": 9,
   "id": "00c91a6d-9041-40ce-b504-782363d8b84c",
   "metadata": {},
   "outputs": [],
   "source": [
    "#learn.fit(1)"
   ]
  },
  {
   "cell_type": "markdown",
   "id": "2309dda3-d5f0-473a-bf49-a1ca36737738",
   "metadata": {},
   "source": [
    "The callback below isn't needed since we can manipulate our dataset here"
   ]
  },
  {
   "cell_type": "code",
   "execution_count": 19,
   "id": "27d0e0fd-3583-4268-96a6-994f0d6d59aa",
   "metadata": {},
   "outputs": [],
   "source": [
    "class compress_cb(Callback):\n",
    "    def after_pred(self):\n",
    "        self.learn.pred = self.pred.squeeze(2)"
   ]
  },
  {
   "cell_type": "code",
   "execution_count": 20,
   "id": "5e8eb4b9-5617-49e9-ad94-54a20ef05e66",
   "metadata": {},
   "outputs": [],
   "source": [
    "dls.to('cuda');\n",
    "model.to('cuda');"
   ]
  },
  {
   "cell_type": "code",
   "execution_count": 36,
   "id": "2e309c40-ba6b-45cd-ad51-a24362883ccc",
   "metadata": {},
   "outputs": [],
   "source": [
    "class ArcMarginProduct(nn.Module):\n",
    "    r\"\"\"Implement of large margin arc distance: :\n",
    "        Args:\n",
    "            in_features: size of each input sample\n",
    "            out_features: size of each output sample\n",
    "            s: norm of input feature\n",
    "            m: margin\n",
    "            cos(theta + m)\n",
    "        \"\"\"\n",
    "    def __init__(self, in_features, out_features, s=30.0, m=0.50, easy_margin=False, ls_eps=0.0):\n",
    "        super(ArcMarginProduct, self).__init__()\n",
    "        self.in_features = in_features\n",
    "        self.out_features = out_features\n",
    "        self.s = s\n",
    "        self.m = m\n",
    "        self.ls_eps = ls_eps  # label smoothing\n",
    "        self.weight = nn.Parameter(torch.FloatTensor(out_features, in_features)).to('cuda')\n",
    "        nn.init.xavier_uniform_(self.weight)\n",
    "\n",
    "        self.easy_margin = easy_margin\n",
    "        self.cos_m = math.cos(m)\n",
    "        self.sin_m = math.sin(m)\n",
    "        self.th = math.cos(math.pi - m)\n",
    "        self.mm = math.sin(math.pi - m) * m\n",
    "\n",
    "    def forward(self, input, label):\n",
    "        # --------------------------- cos(theta) & phi(theta) ---------------------------\n",
    "        print(input.shape)\n",
    "        print(label.shape)\n",
    "        cosine = F.linear(F.normalize(input), F.normalize(self.weight))\n",
    "        #sine = torch.sqrt(1.0 - torch.pow(cosine, 2))\n",
    "        sine = torch.sqrt(1.0 - torch.pow(cosine,2)).to(cosine.dtype)\n",
    "        phi = cosine * self.cos_m - sine * self.sin_m\n",
    "        if self.easy_margin:\n",
    "            phi = torch.where(cosine > 0, phi, cosine)\n",
    "        else:\n",
    "            phi = torch.where(cosine > self.th, phi, cosine - self.mm)\n",
    "        # --------------------------- convert label to one-hot ---------------------------\n",
    "        # one_hot = torch.zeros(cosine.size(), requires_grad=True, device='cuda')\n",
    "        one_hot = torch.zeros(cosine.size(), device='cuda')\n",
    "        print(one_hot.shape)\n",
    "        #one_hot.scatter_(1, label.view(-1, 1).long(), 1)\n",
    "        if self.ls_eps > 0:\n",
    "            one_hot = (1 - self.ls_eps) * one_hot + self.ls_eps / self.out_features\n",
    "        # -------------torch.where(out_i = {x_i if condition_i else y_i) -------------\n",
    "        output = (one_hot * phi) + ((1.0 - one_hot) * cosine)\n",
    "        output *= self.s\n",
    "\n",
    "        return output"
   ]
  },
  {
   "cell_type": "code",
   "execution_count": 29,
   "id": "91176b02-3bc5-4b3f-a53e-2ebe862d1b22",
   "metadata": {},
   "outputs": [
    {
     "data": {
      "text/plain": [
       "torch.Size([16, 18, 16])"
      ]
     },
     "execution_count": 29,
     "metadata": {},
     "output_type": "execute_result"
    }
   ],
   "source": [
    "F.normalize(out.squeeze(2)).shape"
   ]
  },
  {
   "cell_type": "code",
   "execution_count": 35,
   "id": "dbe5569f-660d-4ad5-a9b0-cd21bb7514f1",
   "metadata": {},
   "outputs": [
    {
     "data": {
      "text/plain": [
       "torch.Size([16, 1])"
      ]
     },
     "execution_count": 35,
     "metadata": {},
     "output_type": "execute_result"
    }
   ],
   "source": [
    "F.normalize(batch[1].to(torch.float)).shape"
   ]
  },
  {
   "cell_type": "code",
   "execution_count": 22,
   "id": "ae822f98-114e-4dc2-95fe-05766ecba22c",
   "metadata": {},
   "outputs": [
    {
     "data": {
      "text/plain": [
       "torch.Size([16, 18])"
      ]
     },
     "execution_count": 22,
     "metadata": {},
     "output_type": "execute_result"
    }
   ],
   "source": [
    "F.linear(out.squeeze(2), batch[1].squeeze(1).to(torch.float)).shape"
   ]
  },
  {
   "cell_type": "code",
   "execution_count": 18,
   "id": "5f729a7e-b7fb-417a-8dc9-5e1151c0125f",
   "metadata": {},
   "outputs": [
    {
     "data": {
      "text/plain": [
       "(torch.Size([16, 18, 16]), torch.Size([16]))"
      ]
     },
     "execution_count": 18,
     "metadata": {},
     "output_type": "execute_result"
    }
   ],
   "source": [
    "out.squeeze(2).shape, batch[1].squeeze(1).shape"
   ]
  },
  {
   "cell_type": "code",
   "execution_count": 27,
   "id": "c65775f3-2a7a-4e45-9bdd-148c35de0b38",
   "metadata": {},
   "outputs": [
    {
     "data": {
      "text/plain": [
       "torch.Size([16, 18])"
      ]
     },
     "execution_count": 27,
     "metadata": {},
     "output_type": "execute_result"
    }
   ],
   "source": [
    "F.linear(F.normalize(out.squeeze(2)), batch[1].squeeze(1).to(torch.float)).shape"
   ]
  },
  {
   "cell_type": "code",
   "execution_count": 38,
   "id": "5457fd86-73f7-4a7a-927f-8130ce125658",
   "metadata": {},
   "outputs": [
    {
     "name": "stdout",
     "output_type": "stream",
     "text": [
      "torch.Size([16, 18, 16])\n",
      "torch.Size([16])\n",
      "torch.Size([16, 18, 512])\n"
     ]
    },
    {
     "data": {
      "text/plain": [
       "torch.Size([16, 18, 512])"
      ]
     },
     "execution_count": 38,
     "metadata": {},
     "output_type": "execute_result"
    }
   ],
   "source": [
    "ArcMarginProduct(16, 512)(out.squeeze(2).to('cuda'), batch[1].squeeze(1).to(torch.float).to('cuda')).shape"
   ]
  },
  {
   "cell_type": "code",
   "execution_count": 21,
   "id": "75a54300-5c76-49d3-86ed-13df2a64200a",
   "metadata": {},
   "outputs": [],
   "source": [
    "learn = Learner(dls, model, loss_func=nn.CrossEntropyLoss(),\n",
    "               cbs=[compress_cb], \n",
    "                metrics=[accuracy])#.to_fp16()"
   ]
  },
  {
   "cell_type": "code",
   "execution_count": 16,
   "id": "84a63606-5a64-4b0f-a11b-6ca5258b75b0",
   "metadata": {},
   "outputs": [],
   "source": [
    "#for x in range(len(valid_dl)):\n",
    "#    batch = next(iter(valid_dl))\n",
    "#    out = learn.model(batch[0])\n",
    "#    print(nn.CrossEntropyLoss()(out, batch[1]))"
   ]
  },
  {
   "cell_type": "code",
   "execution_count": null,
   "id": "e9cdb8be-0157-435a-a016-5729fe95afae",
   "metadata": {},
   "outputs": [],
   "source": [
    "#out.dtype"
   ]
  },
  {
   "cell_type": "code",
   "execution_count": 40,
   "id": "351320ef-289e-4738-8331-9b7964024622",
   "metadata": {},
   "outputs": [],
   "source": [
    "#learn.lr_find()"
   ]
  },
  {
   "cell_type": "code",
   "execution_count": 39,
   "id": "0b8f0082-2e80-410a-9d0e-232a53203b16",
   "metadata": {},
   "outputs": [],
   "source": [
    "#learn.fine_tune(1)"
   ]
  },
  {
   "cell_type": "code",
   "execution_count": null,
   "id": "19ab0b50-5ea6-4920-bc31-227defff1bf2",
   "metadata": {},
   "outputs": [],
   "source": []
  }
 ],
 "metadata": {
  "kernelspec": {
   "display_name": "zenv",
   "language": "python",
   "name": "zenv"
  },
  "language_info": {
   "codemirror_mode": {
    "name": "ipython",
    "version": 3
   },
   "file_extension": ".py",
   "mimetype": "text/x-python",
   "name": "python",
   "nbconvert_exporter": "python",
   "pygments_lexer": "ipython3",
   "version": "3.8.10"
  }
 },
 "nbformat": 4,
 "nbformat_minor": 5
}
