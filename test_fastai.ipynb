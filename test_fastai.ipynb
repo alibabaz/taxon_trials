{
 "cells": [
  {
   "cell_type": "markdown",
   "id": "86aa0f8d-5ff4-49f6-b6f2-d3b83bdcc065",
   "metadata": {},
   "source": [
    "The same as \"pytorch_training_loop\" but better :)"
   ]
  },
  {
   "cell_type": "code",
   "execution_count": 1,
   "id": "cc26abe7-5d61-4595-976b-8b9aed0ee5bd",
   "metadata": {},
   "outputs": [],
   "source": [
    "import torch\n",
    "import numpy as np\n",
    "import pandas as pd\n",
    "import os\n",
    "import h5py\n",
    "from exabiome.nn.loader import read_dataset, LazySeqDataset\n",
    "import argparse\n",
    "from torch.utils.data import Dataset, DataLoader\n",
    "import torch.nn as nn\n",
    "from model import *\n",
    "from data import *\n",
    "from fastai.text.all import *"
   ]
  },
  {
   "cell_type": "code",
   "execution_count": 2,
   "id": "89f005d7-4009-497d-85a4-0b53ac62f696",
   "metadata": {},
   "outputs": [],
   "source": [
    "hparams = argparse.Namespace(**{'load': False,\n",
    "                                'window': 4096,\n",
    "                                'step': 4096,\n",
    "                                'classify': True,\n",
    "                                'tgt_tax_lvl': \"phylum\",\n",
    "                                'fwd_only': True})"
   ]
  },
  {
   "cell_type": "code",
   "execution_count": 3,
   "id": "cda93bfd-1272-4a45-9b5c-bd6658741740",
   "metadata": {},
   "outputs": [],
   "source": [
    "def get_toy_dl(hparams, batch_size=16):\n",
    "    path = '/global/homes/a/azaidi/ar122_r202.toy.input.h5'\n",
    "    chunks = LazySeqDataset(hparams, path=path,\n",
    "                           keep_open=True)\n",
    "    ds = taxon_ds(chunks, old_pad_seq)\n",
    "    return DataLoader(ds, batch_size=batch_size, \n",
    "                      shuffle=True), ds"
   ]
  },
  {
   "cell_type": "code",
   "execution_count": 5,
   "id": "e4a109fc-1c97-44a2-9f49-0e35daa223ec",
   "metadata": {},
   "outputs": [
    {
     "data": {
      "text/plain": [
       "(149, torch.Size([128, 1, 4096]), torch.Size([128]))"
      ]
     },
     "execution_count": 5,
     "metadata": {},
     "output_type": "execute_result"
    }
   ],
   "source": [
    "dl,ds = get_toy_dl(hparams, batch_size=128)\n",
    "batch = next(iter(dl))\n",
    "len(dl), batch[0].shape, batch[1].shape"
   ]
  },
  {
   "cell_type": "code",
   "execution_count": 6,
   "id": "623ceee0-b015-47ef-b11e-a5c64c1d0a54",
   "metadata": {},
   "outputs": [],
   "source": [
    "p_list = [\n",
    "        [[16,96,3,24,3,2,1], [24,144,6,24,3,1,1]], #layer 1\n",
    "        [[24,144,6,40,5,2,2], [40,240,10,40,5,1,2]], #layer 2 \n",
    "        [[40,240,10,80,3,2,1],[80,480,20,80,3,1,1], \n",
    "                                [80,480,20,80,3,1,1]], #layer 3\n",
    "        [[80,480,20,112,5,1,2], [112,672,28,112,5,1,2], \n",
    "                                 [112,672,28,112,5,1,2]], #layer 4\n",
    "        [[112,672,28,192,5,2,2],[192,1152,48,192,5,1,2],\n",
    "         [192,1152,48,192,5,1,2], [192,1152,48,192,5,1,2]], #layer 5\n",
    "        [[192,1152,48,320,3,2,1]] #layer 6\n",
    "         ]"
   ]
  },
  {
   "cell_type": "code",
   "execution_count": 7,
   "id": "35df7e13-bf9d-4e3b-8d8c-f687e6599f88",
   "metadata": {},
   "outputs": [
    {
     "data": {
      "text/plain": [
       "torch.Size([128, 18, 1])"
      ]
     },
     "execution_count": 7,
     "metadata": {},
     "output_type": "execute_result"
    }
   ],
   "source": [
    "model = EffNet_b0(p_list, out_feats=1)\n",
    "model(batch[0]).shape"
   ]
  },
  {
   "cell_type": "code",
   "execution_count": 8,
   "id": "fc1e103d-6742-4f1c-83f4-723234a7028c",
   "metadata": {},
   "outputs": [],
   "source": [
    "dls = DataLoaders(dl, dl)"
   ]
  },
  {
   "cell_type": "markdown",
   "id": "8bf401f7-ea30-45e1-9c49-b6d72062394c",
   "metadata": {},
   "source": [
    "As a reminder, we're just playing around here -- a proper validation set should be used and not just the same dataloader as the training set :)"
   ]
  },
  {
   "cell_type": "code",
   "execution_count": 8,
   "id": "3c71e6e0-9274-4c83-ade5-6f24d93422e2",
   "metadata": {},
   "outputs": [],
   "source": [
    "learn = Learner(dls, model, loss_func=nn.CrossEntropyLoss())"
   ]
  },
  {
   "cell_type": "markdown",
   "id": "ba074d8c-53ee-4280-a562-0b612226e26e",
   "metadata": {},
   "source": [
    "Trying to train this model will not work -- out of the box -- this can be confirmed by uncommenting the line below"
   ]
  },
  {
   "cell_type": "code",
   "execution_count": 9,
   "id": "00c91a6d-9041-40ce-b504-782363d8b84c",
   "metadata": {},
   "outputs": [],
   "source": [
    "#learn.fit(1)"
   ]
  },
  {
   "cell_type": "markdown",
   "id": "2309dda3-d5f0-473a-bf49-a1ca36737738",
   "metadata": {},
   "source": [
    "We'll need to utilize fast.ai's callback system in order to make sure out training loop includes that dimension reduction with the squeeze function, on our models output -- before it get's fed into our loss function. You can find out more about callbacks here: https://docs.fast.ai/callback.core.html"
   ]
  },
  {
   "cell_type": "code",
   "execution_count": 9,
   "id": "27d0e0fd-3583-4268-96a6-994f0d6d59aa",
   "metadata": {},
   "outputs": [],
   "source": [
    "class compress_cb(Callback):\n",
    "    def after_pred(self):\n",
    "        self.learn.pred = self.pred.squeeze(2)"
   ]
  },
  {
   "cell_type": "code",
   "execution_count": 10,
   "id": "5e8eb4b9-5617-49e9-ad94-54a20ef05e66",
   "metadata": {},
   "outputs": [],
   "source": [
    "dls.to('cuda');\n",
    "model.to('cuda');"
   ]
  },
  {
   "cell_type": "code",
   "execution_count": 11,
   "id": "75a54300-5c76-49d3-86ed-13df2a64200a",
   "metadata": {},
   "outputs": [],
   "source": [
    "learn = Learner(dls, model, loss_func=nn.CrossEntropyLoss(),\n",
    "               cbs=[compress_cb], \n",
    "                metrics=[accuracy]).to_fp16()"
   ]
  },
  {
   "cell_type": "code",
   "execution_count": 34,
   "id": "84a63606-5a64-4b0f-a11b-6ca5258b75b0",
   "metadata": {},
   "outputs": [
    {
     "data": {
      "text/plain": [
       "torch.Size([8, 18, 1])"
      ]
     },
     "execution_count": 34,
     "metadata": {},
     "output_type": "execute_result"
    }
   ],
   "source": [
    "out = learn.model(batch[0].to('cuda'))\n",
    "out.shape"
   ]
  },
  {
   "cell_type": "code",
   "execution_count": 12,
   "id": "351320ef-289e-4738-8331-9b7964024622",
   "metadata": {},
   "outputs": [
    {
     "data": {
      "text/html": [],
      "text/plain": [
       "<IPython.core.display.HTML object>"
      ]
     },
     "metadata": {},
     "output_type": "display_data"
    },
    {
     "data": {
      "text/plain": [
       "SuggestedLRs(lr_min=0.03630780577659607, lr_steep=0.3019951581954956)"
      ]
     },
     "execution_count": 12,
     "metadata": {},
     "output_type": "execute_result"
    },
    {
     "data": {
      "image/png": "[encoded data removed]",
      "text/plain": [
       "<Figure size 432x288 with 1 Axes>"
      ]
     },
     "metadata": {
      "needs_background": "light"
     },
     "output_type": "display_data"
    }
   ],
   "source": [
    "learn.lr_find()"
   ]
  },
  {
   "cell_type": "code",
   "execution_count": 13,
   "id": "0b8f0082-2e80-410a-9d0e-232a53203b16",
   "metadata": {},
   "outputs": [
    {
     "data": {
      "text/html": [
       "<table border=\"1\" class=\"dataframe\">\n",
       "  <thead>\n",
       "    <tr style=\"text-align: left;\">\n",
       "      <th>epoch</th>\n",
       "      <th>train_loss</th>\n",
       "      <th>valid_loss</th>\n",
       "      <th>accuracy</th>\n",
       "      <th>time</th>\n",
       "    </tr>\n",
       "  </thead>\n",
       "  <tbody>\n",
       "    <tr>\n",
       "      <td>0</td>\n",
       "      <td>2.176333</td>\n",
       "      <td>4.468081</td>\n",
       "      <td>0.273277</td>\n",
       "      <td>06:35</td>\n",
       "    </tr>\n",
       "    <tr>\n",
       "      <td>1</td>\n",
       "      <td>2.069311</td>\n",
       "      <td>2.044025</td>\n",
       "      <td>0.314361</td>\n",
       "      <td>06:33</td>\n",
       "    </tr>\n",
       "  </tbody>\n",
       "</table>"
      ],
      "text/plain": [
       "<IPython.core.display.HTML object>"
      ]
     },
     "metadata": {},
     "output_type": "display_data"
    }
   ],
   "source": [
    "learn.fit_one_cycle(2, 1e-2)"
   ]
  },
  {
   "cell_type": "markdown",
   "id": "753448e3-da17-4c31-96c0-d5d8b28e3b8b",
   "metadata": {},
   "source": [
    "That was super easy! With Fast.AI we can access useful things like the learning rate finder: https://fastai1.fast.ai/callbacks.lr_finder.html: https://arxiv.org/abs/1506.01186\n",
    "\n",
    "We also get a ton of other useful functionality, like tables for our results + tools to inspect/diagnose how well our model is doing + easy to use techniques to train our model -- for example: <br>\n",
    "(1) using mixed precision training only requires the \".to_fp16()\" as seen in our Learner call<br>\n",
    "(2) One cycle training is implemented in our fit call above"
   ]
  },
  {
   "cell_type": "code",
   "execution_count": 79,
   "id": "4583b5d0-6259-423d-ad07-5bc27fc5113a",
   "metadata": {},
   "outputs": [],
   "source": [
    "#gpu is clearly available\n",
    "#!nvidia-smi"
   ]
  },
  {
   "cell_type": "markdown",
   "id": "064ac564-0576-44cd-b521-ca160a50ac22",
   "metadata": {},
   "source": [
    "Need to look into why library is having trouble assigning everything to gpu automatically -- perhaps bc using cluster?"
   ]
  },
  {
   "cell_type": "code",
   "execution_count": null,
   "id": "19ab0b50-5ea6-4920-bc31-227defff1bf2",
   "metadata": {},
   "outputs": [],
   "source": []
  }
 ],
 "metadata": {
  "kernelspec": {
   "display_name": "zenv",
   "language": "python",
   "name": "zenv"
  },
  "language_info": {
   "codemirror_mode": {
    "name": "ipython",
    "version": 3
   },
   "file_extension": ".py",
   "mimetype": "text/x-python",
   "name": "python",
   "nbconvert_exporter": "python",
   "pygments_lexer": "ipython3",
   "version": "3.8.10"
  }
 },
 "nbformat": 4,
 "nbformat_minor": 5
}
