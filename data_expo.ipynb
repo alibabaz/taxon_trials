{
 "cells": [
  {
   "cell_type": "code",
   "execution_count": 1,
   "id": "57a47ca6-2fbf-443b-bdd5-0a8629c9f534",
   "metadata": {},
   "outputs": [
    {
     "name": "stdout",
     "output_type": "stream",
     "text": [
      "Wed Jun 30 12:25:42 2021       \n",
      "+-----------------------------------------------------------------------------+\n",
      "| NVIDIA-SMI 450.102.04   Driver Version: 450.102.04   CUDA Version: 11.0     |\n",
      "|-------------------------------+----------------------+----------------------+\n",
      "| GPU  Name        Persistence-M| Bus-Id        Disp.A | Volatile Uncorr. ECC |\n",
      "| Fan  Temp  Perf  Pwr:Usage/Cap|         Memory-Usage | GPU-Util  Compute M. |\n",
      "|                               |                      |               MIG M. |\n",
      "|===============================+======================+======================|\n",
      "|   0  Tesla V100-SXM2...  On   | 00000000:88:00.0 Off |                    0 |\n",
      "| N/A   30C    P0    40W / 300W |      0MiB / 16160MiB |      0%      Default |\n",
      "|                               |                      |                  N/A |\n",
      "+-------------------------------+----------------------+----------------------+\n",
      "                                                                               \n",
      "+-----------------------------------------------------------------------------+\n",
      "| Processes:                                                                  |\n",
      "|  GPU   GI   CI        PID   Type   Process name                  GPU Memory |\n",
      "|        ID   ID                                                   Usage      |\n",
      "|=============================================================================|\n",
      "|  No running processes found                                                 |\n",
      "+-----------------------------------------------------------------------------+\n"
     ]
    }
   ],
   "source": [
    "!nvidia-smi"
   ]
  },
  {
   "cell_type": "code",
   "execution_count": 2,
   "id": "238f32fd-7ffc-4b26-b06a-fe1082bfd69f",
   "metadata": {},
   "outputs": [],
   "source": [
    "from hdmf.common import get_hdf5io\n",
    "import numpy as np\n",
    "from fastai.text.all import *"
   ]
  },
  {
   "cell_type": "code",
   "execution_count": 3,
   "id": "eccbb4ae-f71d-42ba-8386-3a65c9040675",
   "metadata": {},
   "outputs": [],
   "source": [
    "import h5py"
   ]
  },
  {
   "cell_type": "code",
   "execution_count": 4,
   "id": "87e11e2b-c526-4160-bdf5-715c0ce645a1",
   "metadata": {},
   "outputs": [
    {
     "data": {
      "text/plain": [
       "(#27) [Path('../taxon_trials/pytorch_train_loop.ipynb'),Path('../taxon_trials/.gitignore'),Path('../taxon_trials/effnet_redux.ipynb'),Path('../taxon_trials/LICENSE'),Path('../taxon_trials/effnet_initial.ipynb'),Path('../taxon_trials/data'),Path('../taxon_trials/effnet_test.ipynb'),Path('../taxon_trials/README.md'),Path('../taxon_trials/cori_output'),Path('../taxon_trials/test_fastai.ipynb')...]"
      ]
     },
     "execution_count": 4,
     "metadata": {},
     "output_type": "execute_result"
    }
   ],
   "source": [
    "path = Path('../taxon_trials')\n",
    "path.ls()"
   ]
  },
  {
   "cell_type": "code",
   "execution_count": 5,
   "id": "1281cdbc-04e6-47f9-9834-56bb44a7d2ad",
   "metadata": {},
   "outputs": [],
   "source": [
    "path = '../taxon_trials/ar122_r202.rep.h5'"
   ]
  },
  {
   "cell_type": "code",
   "execution_count": 6,
   "id": "2b355abe-1085-40e6-9bbb-e344e43bca4e",
   "metadata": {},
   "outputs": [
    {
     "name": "stdout",
     "output_type": "stream",
     "text": [
      "['distances', 'genome_table', 'seq_table', 'specifications', 'taxa_table', 'tree', 'tree_graph']\n"
     ]
    }
   ],
   "source": [
    "f1 = h5py.File(path, 'r')\n",
    "print(list(f1.keys()))"
   ]
  },
  {
   "cell_type": "code",
   "execution_count": 7,
   "id": "e7a18a3f-a7e1-4e47-a1ee-6052291c5926",
   "metadata": {},
   "outputs": [],
   "source": [
    "f = h5py.File(path, 'r')"
   ]
  },
  {
   "cell_type": "code",
   "execution_count": 12,
   "id": "3d454d03-4d9d-42ca-b52d-3cf591fd9c78",
   "metadata": {},
   "outputs": [
    {
     "data": {
      "text/plain": [
       "<KeysViewHDF5 ['genome', 'id', 'length', 'sequence', 'sequence_elements', 'sequence_index', 'sequence_name']>"
      ]
     },
     "execution_count": 12,
     "metadata": {},
     "output_type": "execute_result"
    }
   ],
   "source": [
    "f['seq_table'].keys()"
   ]
  },
  {
   "cell_type": "code",
   "execution_count": 30,
   "id": "fb46bdae-4530-4d27-bdfa-17228cb06931",
   "metadata": {},
   "outputs": [
    {
     "data": {
      "text/plain": [
       "array([b'A', b'C', b'Y', b'W', b'S', b'K', b'D', b'V', b'N', b'T', b'G',\n",
       "       b'R', b'W', b'S', b'M', b'H', b'B', b'N'], dtype=object)"
      ]
     },
     "execution_count": 30,
     "metadata": {},
     "output_type": "execute_result"
    }
   ],
   "source": [
    "f['seq_table']['sequence_elements'][:]"
   ]
  },
  {
   "cell_type": "code",
   "execution_count": 19,
   "id": "77fdbb76-1e82-45b4-a46f-0cfe75fdb919",
   "metadata": {},
   "outputs": [
    {
     "data": {
      "text/plain": [
       "<HDF5 dataset \"sequence_name\": shape (237240,), type \"|O\">"
      ]
     },
     "execution_count": 19,
     "metadata": {},
     "output_type": "execute_result"
    }
   ],
   "source": [
    "f['seq_table']['sequence_name']"
   ]
  },
  {
   "cell_type": "code",
   "execution_count": 46,
   "id": "257e5bf3-68c8-4e04-b2f7-8813f9a8dc32",
   "metadata": {},
   "outputs": [
    {
     "data": {
      "text/plain": [
       "array([b'DP000238.1', b'CP003316.1', b'CP003317.1', b'CP003083.1',\n",
       "       b'AQVQ01000001.1', b'AQVQ01000002.1', b'AQVQ01000003.1',\n",
       "       b'AQVQ01000004.1', b'AQVQ01000005.1', b'AQVQ01000006.1'],\n",
       "      dtype=object)"
      ]
     },
     "execution_count": 46,
     "metadata": {},
     "output_type": "execute_result"
    }
   ],
   "source": [
    "f['seq_table']['sequence_name'][:10]"
   ]
  },
  {
   "cell_type": "code",
   "execution_count": 41,
   "id": "87a0ef38-32ec-450b-aa8e-1fc226159eb2",
   "metadata": {},
   "outputs": [
    {
     "data": {
      "text/plain": [
       "array([9, 0, 0, 9, 1], dtype=uint8)"
      ]
     },
     "execution_count": 41,
     "metadata": {},
     "output_type": "execute_result"
    }
   ],
   "source": [
    "f['seq_table']['sequence'][:5]"
   ]
  },
  {
   "cell_type": "code",
   "execution_count": 49,
   "id": "8c4e4769-56ab-421b-9ca9-f9bab76531aa",
   "metadata": {},
   "outputs": [
    {
     "data": {
      "text/plain": [
       "(4610956683,)"
      ]
     },
     "execution_count": 49,
     "metadata": {},
     "output_type": "execute_result"
    }
   ],
   "source": [
    "f['seq_table']['sequence'].shape"
   ]
  },
  {
   "cell_type": "code",
   "execution_count": 65,
   "id": "ef7e0b86-bf68-4bb4-9534-e6c9f9e47647",
   "metadata": {},
   "outputs": [
    {
     "data": {
      "text/plain": [
       "array([ 0,  1,  2,  3,  4,  5,  6,  7,  8,  9, 10, 11, 14, 15, 16],\n",
       "      dtype=uint8)"
      ]
     },
     "execution_count": 65,
     "metadata": {},
     "output_type": "execute_result"
    }
   ],
   "source": [
    "np.unique(f['seq_table']['sequence'][:100000000])"
   ]
  },
  {
   "cell_type": "code",
   "execution_count": 20,
   "id": "be9f1b6a-9665-47ea-b722-ee6dc11a29a3",
   "metadata": {},
   "outputs": [
    {
     "data": {
      "text/plain": [
       "(2339, 2339)"
      ]
     },
     "execution_count": 20,
     "metadata": {},
     "output_type": "execute_result"
    }
   ],
   "source": [
    "f['distances'][:].shape"
   ]
  },
  {
   "cell_type": "code",
   "execution_count": 22,
   "id": "cc7121dd-75d4-473b-9649-d14e01dba157",
   "metadata": {},
   "outputs": [
    {
     "data": {
      "text/plain": [
       "<KeysViewHDF5 ['id', 'rep_idx', 'taxon_id']>"
      ]
     },
     "execution_count": 22,
     "metadata": {},
     "output_type": "execute_result"
    }
   ],
   "source": [
    "f['genome_table'].keys()"
   ]
  },
  {
   "cell_type": "code",
   "execution_count": 26,
   "id": "20a8da23-1ac2-4ef8-aee3-4ee4211ddcf8",
   "metadata": {},
   "outputs": [
    {
     "data": {
      "text/plain": [
       "(2339,)"
      ]
     },
     "execution_count": 26,
     "metadata": {},
     "output_type": "execute_result"
    }
   ],
   "source": [
    "f['genome_table']['id'][:].shape"
   ]
  },
  {
   "cell_type": "code",
   "execution_count": 28,
   "id": "57db6a15-507f-4b77-ba0b-8658111a567c",
   "metadata": {},
   "outputs": [
    {
     "data": {
      "text/plain": [
       "array([b'GCA_000200715.1', b'GCA_000247545.1', b'GCA_000306725.1', ...,\n",
       "       b'GCF_013390375.1', b'GCF_900109065.1', b'GCF_900114585.1'],\n",
       "      dtype=object)"
      ]
     },
     "execution_count": 28,
     "metadata": {},
     "output_type": "execute_result"
    }
   ],
   "source": [
    "f['genome_table']['taxon_id'][:]"
   ]
  },
  {
   "cell_type": "code",
   "execution_count": 31,
   "id": "48a771cd-726f-42bb-b115-816dda45e701",
   "metadata": {},
   "outputs": [
    {
     "data": {
      "text/plain": [
       "<KeysViewHDF5 ['data', 'indices', 'indptr', 'leaves']>"
      ]
     },
     "execution_count": 31,
     "metadata": {},
     "output_type": "execute_result"
    }
   ],
   "source": [
    "f['tree_graph'].keys()"
   ]
  },
  {
   "cell_type": "code",
   "execution_count": 34,
   "id": "184506c8-22ac-4a35-abf2-e6d13365f7ac",
   "metadata": {},
   "outputs": [
    {
     "data": {
      "text/plain": [
       "array([0.02101, 0.02197, 0.00559, ..., 0.22193, 0.46273, 0.46273])"
      ]
     },
     "execution_count": 34,
     "metadata": {},
     "output_type": "execute_result"
    }
   ],
   "source": [
    "f['tree_graph']['data'][:]"
   ]
  },
  {
   "cell_type": "code",
   "execution_count": 17,
   "id": "14be511d-5f17-4b60-9f1d-f78a981158db",
   "metadata": {},
   "outputs": [
    {
     "data": {
      "text/plain": [
       "<HDF5 dataset \"leaves\": shape (4677,), type \"<i8\">"
      ]
     },
     "execution_count": 17,
     "metadata": {},
     "output_type": "execute_result"
    }
   ],
   "source": [
    "f['tree_graph']['leaves']"
   ]
  },
  {
   "cell_type": "code",
   "execution_count": 19,
   "id": "bd27a98f-705b-4b0a-a3c1-c8d431a0c2ad",
   "metadata": {},
   "outputs": [
    {
     "data": {
      "text/plain": [
       "<KeysViewHDF5 ['id', 'rep_idx', 'taxon_id']>"
      ]
     },
     "execution_count": 19,
     "metadata": {},
     "output_type": "execute_result"
    }
   ],
   "source": [
    "f['genome_table'].keys()"
   ]
  },
  {
   "cell_type": "code",
   "execution_count": 8,
   "id": "08ec548a-69fd-4e18-8c6f-35ff5ba26231",
   "metadata": {},
   "outputs": [
    {
     "data": {
      "text/plain": [
       "<HDF5 dataset \"tree\": shape (), type \"|O\">"
      ]
     },
     "execution_count": 8,
     "metadata": {},
     "output_type": "execute_result"
    }
   ],
   "source": [
    "f['tree']"
   ]
  },
  {
   "cell_type": "code",
   "execution_count": null,
   "id": "cb89e647-6dee-4ed4-95f1-ea643936604e",
   "metadata": {},
   "outputs": [],
   "source": []
  }
 ],
 "metadata": {
  "kernelspec": {
   "display_name": "zenv",
   "language": "python",
   "name": "zenv"
  },
  "language_info": {
   "codemirror_mode": {
    "name": "ipython",
    "version": 3
   },
   "file_extension": ".py",
   "mimetype": "text/x-python",
   "name": "python",
   "nbconvert_exporter": "python",
   "pygments_lexer": "ipython3",
   "version": "3.8.10"
  }
 },
 "nbformat": 4,
 "nbformat_minor": 5
}
