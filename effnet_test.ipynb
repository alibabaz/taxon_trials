{
 "cells": [
  {
   "cell_type": "markdown",
   "id": "b79f6ea9-1d55-423b-91a1-c7f1d5bb094e",
   "metadata": {},
   "source": [
    "This just ellucidates and confirms that our effnet is doing what we expected"
   ]
  },
  {
   "cell_type": "code",
   "execution_count": 1,
   "id": "318fd635-daa5-4a02-8c7c-2eb2c91d71d9",
   "metadata": {},
   "outputs": [],
   "source": [
    "from data import *\n",
    "from model import *\n",
    "\n",
    "import torch\n",
    "import numpy as np\n",
    "import pandas as pd\n",
    "import os\n",
    "import h5py\n",
    "from exabiome.nn.loader import read_dataset, LazySeqDataset, train_test_loaders\n",
    "import argparse\n",
    "from torch.utils.data import Dataset, DataLoader\n",
    "import torch.nn as nn\n",
    "from typing import Type, Any, Callable, Union, List, Optional"
   ]
  },
  {
   "cell_type": "code",
   "execution_count": 2,
   "id": "ef558b2a-9085-4a65-8278-5a76caf1a73e",
   "metadata": {},
   "outputs": [],
   "source": [
    "hparams = argparse.Namespace(**{'load': False,\n",
    "                            'window': 4096,\n",
    "                            'step': 4096,\n",
    "                             'classify': False,\n",
    "                               'tgt_tax_lvl': \"species\",\n",
    "                               'fwd_only': True,\n",
    "                               'manifold': True})"
   ]
  },
  {
   "cell_type": "code",
   "execution_count": 3,
   "id": "2987f2ee-ed82-4c8e-9691-a635a2af5fa0",
   "metadata": {},
   "outputs": [],
   "source": [
    "path = '/global/homes/a/azaidi/ar122_r202.toy.input.h5'\n",
    "chunks = LazySeqDataset(hparams, path=path,\n",
    "                       keep_open=True)"
   ]
  },
  {
   "cell_type": "code",
   "execution_count": 4,
   "id": "d01177bd-67c5-44c0-b4e7-5f51915a9c98",
   "metadata": {},
   "outputs": [],
   "source": [
    "def get_toy_dl(hparams, batch_size=16):\n",
    "    path = '/global/homes/a/azaidi/ar122_r202.toy.input.h5'\n",
    "    chunks = LazySeqDataset(hparams, path=path,\n",
    "                           keep_open=True)\n",
    "    ds = taxon_ds(chunks, old_pad_seq)\n",
    "    return DataLoader(ds, batch_size=batch_size, \n",
    "                      shuffle=True), ds"
   ]
  },
  {
   "cell_type": "code",
   "execution_count": 5,
   "id": "53a573ee-e45b-45a4-9c81-c68a560bfdcb",
   "metadata": {},
   "outputs": [
    {
     "data": {
      "text/plain": [
       "2377"
      ]
     },
     "execution_count": 5,
     "metadata": {},
     "output_type": "execute_result"
    }
   ],
   "source": [
    "dl,ds = get_toy_dl(hparams, batch_size=8)\n",
    "batch = next(iter(dl))\n",
    "len(dl)"
   ]
  },
  {
   "cell_type": "code",
   "execution_count": 9,
   "id": "717b4de3-6938-4253-8770-7272afabbb61",
   "metadata": {},
   "outputs": [
    {
     "data": {
      "text/plain": [
       "5"
      ]
     },
     "execution_count": 9,
     "metadata": {},
     "output_type": "execute_result"
    }
   ],
   "source": [
    "train_dl, val_dl, test_dl = train_test_loaders(chunks, batch_size=16, distances=True)\n",
    "batch = next(iter(train_dl))\n",
    "len(batch)"
   ]
  },
  {
   "cell_type": "markdown",
   "id": "a710b190-1c8f-4f3f-ac73-188ca53911a3",
   "metadata": {},
   "source": [
    "Let's make sure to use the data/target that will match "
   ]
  },
  {
   "cell_type": "code",
   "execution_count": 10,
   "id": "6e227d41-71ac-45ea-a54b-458b4dd0ba29",
   "metadata": {},
   "outputs": [
    {
     "data": {
      "text/plain": [
       "(torch.Size([16, 4096]), torch.Size([16, 16]))"
      ]
     },
     "execution_count": 10,
     "metadata": {},
     "output_type": "execute_result"
    }
   ],
   "source": [
    "x = batch[1]\n",
    "y = batch[2]\n",
    "x.shape, y.shape"
   ]
  },
  {
   "cell_type": "code",
   "execution_count": 12,
   "id": "22228856-a850-4281-acc0-bfccaf58b1f5",
   "metadata": {},
   "outputs": [],
   "source": [
    "p_list = [\n",
    "        [[16,96,3,24,3,2,1], [24,144,6,24,3,1,1]], #layer 1\n",
    "        [[24,144,6,40,5,2,2], [40,240,10,40,5,1,2]], #layer 2 \n",
    "        [[40,240,10,80,3,2,1],[80,480,20,80,3,1,1], \n",
    "                                [80,480,20,80,3,1,1]], #layer 3\n",
    "        [[80,480,20,112,5,1,2], [112,672,28,112,5,1,2], \n",
    "                                 [112,672,28,112,5,1,2]], #layer 4\n",
    "        [[112,672,28,192,5,2,2],[192,1152,48,192,5,1,2],\n",
    "         [192,1152,48,192,5,1,2], [192,1152,48,192,5,1,2]], #layer 5\n",
    "        [[192,1152,48,320,3,2,1]] #layer 6\n",
    "         ]"
   ]
  },
  {
   "cell_type": "code",
   "execution_count": 119,
   "id": "42d6323c-d479-4d5d-a75b-bcf85265d024",
   "metadata": {},
   "outputs": [],
   "source": [
    "model = EffNet_b0(p_list, out_feats=1, n_classes=16)"
   ]
  },
  {
   "cell_type": "code",
   "execution_count": 120,
   "id": "2d17a069-c4bc-477d-ac05-9db322cb08cf",
   "metadata": {},
   "outputs": [
    {
     "data": {
      "text/plain": [
       "(torch.Size([16, 16, 1]), torch.Size([16, 16]))"
      ]
     },
     "execution_count": 120,
     "metadata": {},
     "output_type": "execute_result"
    }
   ],
   "source": [
    "out = model(x.unsqueeze(1).to(torch.float))\n",
    "out.shape, y.shape"
   ]
  },
  {
   "cell_type": "markdown",
   "id": "44255e8f-c745-4ddc-ab55-f2f944fbc0a7",
   "metadata": {},
   "source": [
    "Looks like the forward pass does what's expected - now to just confirm with the loss function"
   ]
  },
  {
   "cell_type": "code",
   "execution_count": 118,
   "id": "846f104c-4bb9-4e14-abc7-ae08edd37ba2",
   "metadata": {},
   "outputs": [],
   "source": [
    "class DistMSELoss(nn.Module):\n",
    "\n",
    "    def __init__(self):\n",
    "        super().__init__()\n",
    "\n",
    "    def forward(self, output, target):\n",
    "        x2 = output.pow(2).sum(axis=1)\n",
    "        xy = 2*output.mm(output.T)\n",
    "        dist = (((x2 - xy).T + x2))\n",
    "        n = output.shape[0]\n",
    "        loss = (dist - target).pow(2).sum()/(n*(n-1))\n",
    "        return loss"
   ]
  },
  {
   "cell_type": "code",
   "execution_count": 121,
   "id": "f602c7bf-28ba-495c-923a-b91388638ae4",
   "metadata": {},
   "outputs": [
    {
     "data": {
      "text/plain": [
       "tensor(109.1038, grad_fn=<DivBackward0>)"
      ]
     },
     "execution_count": 121,
     "metadata": {},
     "output_type": "execute_result"
    }
   ],
   "source": [
    "DistMSELoss()(out.squeeze(2), y)"
   ]
  },
  {
   "cell_type": "code",
   "execution_count": null,
   "id": "66a44c19-d4cd-4c1f-b9e7-83d7dbdebc0b",
   "metadata": {},
   "outputs": [],
   "source": []
  }
 ],
 "metadata": {
  "kernelspec": {
   "display_name": "zenv",
   "language": "python",
   "name": "zenv"
  },
  "language_info": {
   "codemirror_mode": {
    "name": "ipython",
    "version": 3
   },
   "file_extension": ".py",
   "mimetype": "text/x-python",
   "name": "python",
   "nbconvert_exporter": "python",
   "pygments_lexer": "ipython3",
   "version": "3.8.10"
  }
 },
 "nbformat": 4,
 "nbformat_minor": 5
}
