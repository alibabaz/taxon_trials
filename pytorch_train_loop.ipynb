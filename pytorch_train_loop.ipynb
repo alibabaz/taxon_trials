{
 "cells": [
  {
   "cell_type": "markdown",
   "id": "02215aa2-4d70-4d7d-a53c-1a47cf06e004",
   "metadata": {},
   "source": [
    "Here's we'll take our building blocks from the previous notebooks and build a preliminary training loop with pytorch\n",
    "\n",
    "*some things to consider:*<br>\n",
    "(0) We are not using sensible parameters in our model instantiation, nor will we invoke the full effnet model yet <br>\n",
    "(1) Based on (0) we are not expecting the model to learn anything at this point<br>\n",
    "(2) the goal of this notebook is to have a preliminary pipeline in place --> this way we can play around with various parameters within our model and see how they impact the ability of a model to learn something useful"
   ]
  },
  {
   "cell_type": "code",
   "execution_count": 1,
   "id": "d0355f08-7aca-4695-8f56-8eaced471313",
   "metadata": {},
   "outputs": [],
   "source": [
    "import torch\n",
    "import numpy as np\n",
    "import pandas as pd\n",
    "import os\n",
    "import h5py\n",
    "from exabiome.nn.loader import read_dataset, LazySeqDataset\n",
    "import argparse\n",
    "from torch.utils.data import Dataset, DataLoader\n",
    "import torch.nn as nn\n",
    "from model import *\n",
    "from data import *"
   ]
  },
  {
   "cell_type": "code",
   "execution_count": 2,
   "id": "ca5a275b-d653-4d3b-852e-9fb946f0b878",
   "metadata": {},
   "outputs": [],
   "source": [
    "hparams = argparse.Namespace(**{'load': False,\n",
    "                                'window': 4096,\n",
    "                                'step': 4096,\n",
    "                                'classify': True,\n",
    "                                'tgt_tax_lvl': \"phylum\",\n",
    "                                'fwd_only': True})"
   ]
  },
  {
   "cell_type": "code",
   "execution_count": 3,
   "id": "7de44525-f09c-464a-8609-9464a0c99081",
   "metadata": {},
   "outputs": [],
   "source": [
    "def get_toy_dl(hparams, batch_size=16):\n",
    "    path = '/global/homes/a/azaidi/ar122_r202.toy.input.h5'\n",
    "    chunks = LazySeqDataset(hparams, path=path,\n",
    "                           keep_open=True)\n",
    "    ds = taxon_ds(chunks, old_pad_seq)\n",
    "    return DataLoader(ds, batch_size=batch_size, \n",
    "                      shuffle=True)#, drop_last=True)"
   ]
  },
  {
   "cell_type": "code",
   "execution_count": 4,
   "id": "b7db8522-589b-4341-a0ae-01d26990de68",
   "metadata": {},
   "outputs": [
    {
     "data": {
      "text/plain": [
       "(1189, torch.Size([16, 1, 4096]), torch.Size([16]))"
      ]
     },
     "execution_count": 4,
     "metadata": {},
     "output_type": "execute_result"
    }
   ],
   "source": [
    "dl = get_toy_dl(hparams)\n",
    "batch = next(iter(dl))\n",
    "len(dl), batch[0].shape, batch[1].shape"
   ]
  },
  {
   "cell_type": "code",
   "execution_count": 5,
   "id": "b2996dcf-7135-4901-ab56-098900a68a9c",
   "metadata": {},
   "outputs": [
    {
     "data": {
      "text/plain": [
       "torch.Size([16, 1, 12])"
      ]
     },
     "execution_count": 5,
     "metadata": {},
     "output_type": "execute_result"
    }
   ],
   "source": [
    "nn.Sequential(\n",
    "    get_base_layer(),\n",
    "    get_dep_sep(32,16),\n",
    "    get_inv_res(16, 12),\n",
    "    get_head_layer(12, 1,\n",
    "                  lin_out_feats=12)\n",
    ")(batch[0]).shape"
   ]
  },
  {
   "cell_type": "code",
   "execution_count": 6,
   "id": "fd662575-076e-4bd0-abc0-e6d5a300f65f",
   "metadata": {},
   "outputs": [],
   "source": [
    "def get_model():\n",
    "    model = nn.Sequential(\n",
    "        get_base_layer(),\n",
    "        get_dep_sep(32,16),\n",
    "        get_inv_res(16, 12),\n",
    "        get_head_layer(12, 1,\n",
    "                    lin_out_feats=18))\n",
    "    return model"
   ]
  },
  {
   "cell_type": "markdown",
   "id": "ce27820f-743b-4061-9c44-360609c1fc43",
   "metadata": {},
   "source": [
    "We just want to make sure a loss function works for now -- this dataset only has 18 potential classes, so we select 18 out features in the model definition above"
   ]
  },
  {
   "cell_type": "code",
   "execution_count": 7,
   "id": "3987c829-9d51-4905-98a2-d191fd188f7b",
   "metadata": {},
   "outputs": [
    {
     "data": {
      "text/plain": [
       "(torch.Size([16, 18]), torch.Size([16]))"
      ]
     },
     "execution_count": 7,
     "metadata": {},
     "output_type": "execute_result"
    }
   ],
   "source": [
    "m = get_model()\n",
    "out = m(batch[0]).squeeze(1)\n",
    "out.shape, batch[1].shape"
   ]
  },
  {
   "cell_type": "code",
   "execution_count": 8,
   "id": "315d1d59-41e1-4c33-b439-874d15d22fce",
   "metadata": {},
   "outputs": [
    {
     "data": {
      "text/plain": [
       "tensor(2.8552, grad_fn=<NllLossBackward>)"
      ]
     },
     "execution_count": 8,
     "metadata": {},
     "output_type": "execute_result"
    }
   ],
   "source": [
    "loss = nn.CrossEntropyLoss()(out, batch[1])\n",
    "loss"
   ]
  },
  {
   "cell_type": "markdown",
   "id": "2c1e332a-9457-4e4f-bb2a-e618b233f0e3",
   "metadata": {},
   "source": [
    "Looks like our loss function works!"
   ]
  },
  {
   "cell_type": "markdown",
   "id": "00b3710d-f0bc-477f-8ae6-ef15ee57d841",
   "metadata": {},
   "source": [
    "This call below determines if we have a GPU available -- if so, we will want to use that"
   ]
  },
  {
   "cell_type": "code",
   "execution_count": 9,
   "id": "e8d16a5a-ded0-4c8b-b19c-582fdbf99e86",
   "metadata": {},
   "outputs": [
    {
     "data": {
      "text/plain": [
       "'cuda'"
      ]
     },
     "execution_count": 9,
     "metadata": {},
     "output_type": "execute_result"
    }
   ],
   "source": [
    "device = 'cpu' if not torch.cuda.is_available() else 'cuda'\n",
    "device"
   ]
  },
  {
   "cell_type": "markdown",
   "id": "ed6ebda0-4dbc-4314-9364-5196ff19a4dd",
   "metadata": {},
   "source": [
    "We will need to update the gradients after our backward pass -- we could do this manually but it would be better to use one of pytorch's optimizers, we'll go with Adam"
   ]
  },
  {
   "cell_type": "code",
   "execution_count": 10,
   "id": "3444be2f-66e8-4321-b245-976ae63ab62f",
   "metadata": {},
   "outputs": [
    {
     "data": {
      "text/plain": [
       "Adam (\n",
       "Parameter Group 0\n",
       "    amsgrad: False\n",
       "    betas: (0.9, 0.999)\n",
       "    eps: 1e-08\n",
       "    lr: 0.001\n",
       "    weight_decay: 0\n",
       ")"
      ]
     },
     "execution_count": 10,
     "metadata": {},
     "output_type": "execute_result"
    }
   ],
   "source": [
    "torch.optim.Adam(m.parameters())"
   ]
  },
  {
   "cell_type": "code",
   "execution_count": 11,
   "id": "d484980b-c0c7-4771-96b1-0339222b4691",
   "metadata": {},
   "outputs": [],
   "source": [
    "opt = torch.optim.Adam(m.parameters())"
   ]
  },
  {
   "cell_type": "code",
   "execution_count": 22,
   "id": "88030d10-2236-4fe9-97e2-6f5e469d88ba",
   "metadata": {},
   "outputs": [
    {
     "data": {
      "text/plain": [
       "torch.nn.parameter.Parameter"
      ]
     },
     "execution_count": 22,
     "metadata": {},
     "output_type": "execute_result"
    }
   ],
   "source": [
    "type(opt.param_groups[0]['params'][0])"
   ]
  },
  {
   "cell_type": "code",
   "execution_count": 26,
   "id": "52b78559-8b49-4ade-9840-7bb7b8ac74b9",
   "metadata": {},
   "outputs": [
    {
     "data": {
      "text/plain": [
       "tensor([[[-0.3453, -0.4594,  0.0059]],\n",
       "\n",
       "        [[-0.4521,  0.3493, -0.0907]],\n",
       "\n",
       "        [[-0.2188,  0.2687, -0.3389]],\n",
       "\n",
       "        [[ 0.3361,  0.4139, -0.0261]],\n",
       "\n",
       "        [[ 0.5304,  0.2963, -0.1521]],\n",
       "\n",
       "        [[ 0.5301, -0.2014, -0.1949]],\n",
       "\n",
       "        [[-0.3450, -0.5064, -0.3766]],\n",
       "\n",
       "        [[-0.4718,  0.4753, -0.1175]],\n",
       "\n",
       "        [[ 0.4556,  0.0283,  0.2938]],\n",
       "\n",
       "        [[ 0.3528, -0.5153, -0.0148]],\n",
       "\n",
       "        [[-0.0389,  0.5158,  0.5702]],\n",
       "\n",
       "        [[ 0.4908,  0.5315,  0.0877]],\n",
       "\n",
       "        [[ 0.1320, -0.1477, -0.3017]],\n",
       "\n",
       "        [[ 0.1931,  0.1297,  0.3845]],\n",
       "\n",
       "        [[ 0.5061,  0.0792, -0.0815]],\n",
       "\n",
       "        [[ 0.4811, -0.5096, -0.0871]],\n",
       "\n",
       "        [[ 0.2696,  0.4686,  0.1298]],\n",
       "\n",
       "        [[ 0.2461, -0.5584, -0.2608]],\n",
       "\n",
       "        [[-0.2741,  0.4409,  0.5593]],\n",
       "\n",
       "        [[-0.0618,  0.4183,  0.5466]],\n",
       "\n",
       "        [[-0.1534,  0.0247, -0.2485]],\n",
       "\n",
       "        [[ 0.2610, -0.5613,  0.2578]],\n",
       "\n",
       "        [[-0.0485, -0.2837, -0.1530]],\n",
       "\n",
       "        [[-0.4076, -0.1371,  0.3083]],\n",
       "\n",
       "        [[ 0.0394,  0.2220, -0.4197]],\n",
       "\n",
       "        [[-0.4524, -0.4776,  0.2048]],\n",
       "\n",
       "        [[-0.5448, -0.5593,  0.1024]],\n",
       "\n",
       "        [[ 0.0185, -0.4866,  0.0990]],\n",
       "\n",
       "        [[ 0.3121,  0.2522, -0.3381]],\n",
       "\n",
       "        [[ 0.5051,  0.0400,  0.3541]],\n",
       "\n",
       "        [[-0.2394, -0.3624,  0.2966]],\n",
       "\n",
       "        [[ 0.0385,  0.2447, -0.3292]]])"
      ]
     },
     "execution_count": 26,
     "metadata": {},
     "output_type": "execute_result"
    }
   ],
   "source": [
    "opt.param_groups[0]['params'][0].data"
   ]
  },
  {
   "cell_type": "code",
   "execution_count": 28,
   "id": "dfe8fc74-d91b-471c-b861-39ec4e23af05",
   "metadata": {},
   "outputs": [
    {
     "data": {
      "text/plain": [
       "torch.Tensor"
      ]
     },
     "execution_count": 28,
     "metadata": {},
     "output_type": "execute_result"
    }
   ],
   "source": [
    "type(opt.param_groups[0]['params'][0].data)"
   ]
  },
  {
   "cell_type": "code",
   "execution_count": 17,
   "id": "7cb0b66b-cab3-41b2-b48b-3cadf1f896b0",
   "metadata": {},
   "outputs": [
    {
     "name": "stdout",
     "output_type": "stream",
     "text": [
      "Parameter containing:\n",
      "tensor([[[-0.3453, -0.4594,  0.0059]],\n",
      "\n",
      "        [[-0.4521,  0.3493, -0.0907]],\n",
      "\n",
      "        [[-0.2188,  0.2687, -0.3389]],\n",
      "\n",
      "        [[ 0.3361,  0.4139, -0.0261]],\n",
      "\n",
      "        [[ 0.5304,  0.2963, -0.1521]],\n",
      "\n",
      "        [[ 0.5301, -0.2014, -0.1949]],\n",
      "\n",
      "        [[-0.3450, -0.5064, -0.3766]],\n",
      "\n",
      "        [[-0.4718,  0.4753, -0.1175]],\n",
      "\n",
      "        [[ 0.4556,  0.0283,  0.2938]],\n",
      "\n",
      "        [[ 0.3528, -0.5153, -0.0148]],\n",
      "\n",
      "        [[-0.0389,  0.5158,  0.5702]],\n",
      "\n",
      "        [[ 0.4908,  0.5315,  0.0877]],\n",
      "\n",
      "        [[ 0.1320, -0.1477, -0.3017]],\n",
      "\n",
      "        [[ 0.1931,  0.1297,  0.3845]],\n",
      "\n",
      "        [[ 0.5061,  0.0792, -0.0815]],\n",
      "\n",
      "        [[ 0.4811, -0.5096, -0.0871]],\n",
      "\n",
      "        [[ 0.2696,  0.4686,  0.1298]],\n",
      "\n",
      "        [[ 0.2461, -0.5584, -0.2608]],\n",
      "\n",
      "        [[-0.2741,  0.4409,  0.5593]],\n",
      "\n",
      "        [[-0.0618,  0.4183,  0.5466]],\n",
      "\n",
      "        [[-0.1534,  0.0247, -0.2485]],\n",
      "\n",
      "        [[ 0.2610, -0.5613,  0.2578]],\n",
      "\n",
      "        [[-0.0485, -0.2837, -0.1530]],\n",
      "\n",
      "        [[-0.4076, -0.1371,  0.3083]],\n",
      "\n",
      "        [[ 0.0394,  0.2220, -0.4197]],\n",
      "\n",
      "        [[-0.4524, -0.4776,  0.2048]],\n",
      "\n",
      "        [[-0.5448, -0.5593,  0.1024]],\n",
      "\n",
      "        [[ 0.0185, -0.4866,  0.0990]],\n",
      "\n",
      "        [[ 0.3121,  0.2522, -0.3381]],\n",
      "\n",
      "        [[ 0.5051,  0.0400,  0.3541]],\n",
      "\n",
      "        [[-0.2394, -0.3624,  0.2966]],\n",
      "\n",
      "        [[ 0.0385,  0.2447, -0.3292]]], requires_grad=True)\n"
     ]
    }
   ],
   "source": [
    "for pg in opt.param_groups:\n",
    "    for p in pg['params']:\n",
    "        print(p)\n",
    "        break"
   ]
  },
  {
   "cell_type": "markdown",
   "id": "3379d171-48b2-45bc-a286-70afb4d5583b",
   "metadata": {},
   "source": [
    "# Preliminary training loop"
   ]
  },
  {
   "cell_type": "code",
   "execution_count": 96,
   "id": "7bd601cb-98b0-4176-98db-82e0469b8dc1",
   "metadata": {},
   "outputs": [
    {
     "name": "stdout",
     "output_type": "stream",
     "text": [
      "tensor(2.9753, grad_fn=<NllLossBackward>)\n",
      "tensor(2.9210, grad_fn=<NllLossBackward>)\n",
      "tensor(3.1081, grad_fn=<NllLossBackward>)\n",
      "tensor(3.0681, grad_fn=<NllLossBackward>)\n",
      "tensor(2.8755, grad_fn=<NllLossBackward>)\n",
      "tensor(2.9873, grad_fn=<NllLossBackward>)\n",
      "tensor(2.9198, grad_fn=<NllLossBackward>)\n",
      "tensor(2.9386, grad_fn=<NllLossBackward>)\n",
      "tensor(3.2251, grad_fn=<NllLossBackward>)\n",
      "tensor(2.9081, grad_fn=<NllLossBackward>)\n"
     ]
    }
   ],
   "source": [
    "m = get_model()\n",
    "loss_fxn = nn.CrossEntropyLoss()\n",
    "dl = get_toy_dl(hparams)\n",
    "\n",
    "device = 'cpu' if not torch.cuda.is_available() else 'cuda'\n",
    "opt = torch.optim.Adam(m.parameters())\n",
    "m.to(device)\n",
    "i = 0\n",
    "\n",
    "for x, y in dl:\n",
    "#    x, y = batch\n",
    "    out = m(x.to(device))\n",
    "    loss = loss_fxn(out.squeeze(1), y.to(device))\n",
    "\n",
    "    loss.backward() #pytorch computes the gradients for us\n",
    "    opt.step() #out optimizer does the weight updates for us\n",
    "    opt.zero_grad() #this could be moved to the start of for loop\n",
    "    \n",
    "    #this is just for debugging purposes + to see loss value as we train\n",
    "    if(i == 10): \n",
    "        break\n",
    "    else:\n",
    "        print(loss)\n",
    "        i+=1"
   ]
  },
  {
   "cell_type": "markdown",
   "id": "9bbeeacb-22e8-40b9-b295-f20d55fba3ff",
   "metadata": {},
   "source": [
    "That's our training loop - pretty simple! It's basically 6 lines of code\n",
    "\n",
    "\n",
    "for x, y in dl:\n",
    ">   out = m(x.to(device)) <br>\n",
    "    loss = loss_fxn(out.squeeze(1), y.to(device)) <br>\n",
    "    loss.backward() <br>\n",
    "    opt.step() <br>\n",
    "    opt.zero_grad() <br>"
   ]
  },
  {
   "cell_type": "markdown",
   "id": "17d09c7d-f7c5-469d-8a0a-174e101d9cd9",
   "metadata": {},
   "source": [
    "As stated before, this model will not be learning much of value with the way it's been setup + parameterized -- but this simple model is small enough to work on a pipeline with a cpu"
   ]
  },
  {
   "cell_type": "code",
   "execution_count": null,
   "id": "0134edf9-ff91-464b-8164-6c47ce7e63fc",
   "metadata": {},
   "outputs": [],
   "source": []
  },
  {
   "cell_type": "code",
   "execution_count": null,
   "id": "a0619889-4405-4685-9b38-e8ef9c345456",
   "metadata": {},
   "outputs": [],
   "source": []
  }
 ],
 "metadata": {
  "kernelspec": {
   "display_name": "zenv",
   "language": "python",
   "name": "zenv"
  },
  "language_info": {
   "codemirror_mode": {
    "name": "ipython",
    "version": 3
   },
   "file_extension": ".py",
   "mimetype": "text/x-python",
   "name": "python",
   "nbconvert_exporter": "python",
   "pygments_lexer": "ipython3",
   "version": "3.8.10"
  }
 },
 "nbformat": 4,
 "nbformat_minor": 5
}
