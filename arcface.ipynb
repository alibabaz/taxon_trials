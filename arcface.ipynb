{
 "cells": [
  {
   "cell_type": "markdown",
   "id": "86aa0f8d-5ff4-49f6-b6f2-d3b83bdcc065",
   "metadata": {},
   "source": [
    "ArcFace for proteins! <br>\n",
    "https://arxiv.org/abs/1801.07698"
   ]
  },
  {
   "cell_type": "code",
   "execution_count": 3,
   "id": "cc26abe7-5d61-4595-976b-8b9aed0ee5bd",
   "metadata": {},
   "outputs": [],
   "source": [
    "import torch\n",
    "import numpy as np\n",
    "import pandas as pd\n",
    "import os\n",
    "import h5py\n",
    "from exabiome.nn.loader import read_dataset, LazySeqDataset\n",
    "import argparse\n",
    "from torch.utils.data import Dataset, DataLoader\n",
    "import torch.nn as nn\n",
    "from model import *\n",
    "from data import *\n",
    "from fastai.text.all import *"
   ]
  },
  {
   "cell_type": "code",
   "execution_count": 4,
   "id": "e6c155c6-a4dd-4cef-b65c-687322e1ddde",
   "metadata": {},
   "outputs": [
    {
     "data": {
      "text/plain": [
       "((19010, 4097), (19010, 2))"
      ]
     },
     "execution_count": 4,
     "metadata": {},
     "output_type": "execute_result"
    }
   ],
   "source": [
    "df_x = pd.read_csv('data/toy_x.csv')\n",
    "df_y = pd.read_csv('data/toy_y.csv')\n",
    "df_x.shape, df_y.shape"
   ]
  },
  {
   "cell_type": "code",
   "execution_count": 5,
   "id": "163cd53e-93fa-41e7-a6bf-69c8253aaac3",
   "metadata": {},
   "outputs": [],
   "source": [
    "class FastDs(Dataset):\n",
    "    def __init__(self, df_x, df_y):\n",
    "        self.x = df_x\n",
    "        self.y = df_y\n",
    "    def __len__(self):\n",
    "        return len(self.x)\n",
    "    def __getitem__(self, idx):\n",
    "        x = self.x.iloc[idx][1:]\n",
    "        y = self.y.iloc[idx][1:]\n",
    "        return torch.Tensor(x).unsqueeze(0), torch.Tensor(y).to(torch.long).squeeze()"
   ]
  },
  {
   "cell_type": "code",
   "execution_count": 6,
   "id": "aa2842fb-ed49-489b-81d0-5f00235da34e",
   "metadata": {},
   "outputs": [
    {
     "data": {
      "text/plain": [
       "(17010, 2000)"
      ]
     },
     "execution_count": 6,
     "metadata": {},
     "output_type": "execute_result"
    }
   ],
   "source": [
    "train_ds = FastDs(df_x[:-2000], df_y[:-2000])\n",
    "valid_ds = FastDs(df_x[-2000:], df_y[-2000:])\n",
    "len(train_ds), len(valid_ds)"
   ]
  },
  {
   "cell_type": "code",
   "execution_count": 7,
   "id": "5ca2c21a-6cbd-4598-8c89-7b97feca0e6b",
   "metadata": {},
   "outputs": [
    {
     "data": {
      "text/plain": [
       "torch.Size([])"
      ]
     },
     "execution_count": 7,
     "metadata": {},
     "output_type": "execute_result"
    }
   ],
   "source": [
    "train_ds[0][1].shape"
   ]
  },
  {
   "cell_type": "code",
   "execution_count": 8,
   "id": "c5ea2854-72fb-4b58-8622-5d10a8979368",
   "metadata": {},
   "outputs": [
    {
     "data": {
      "text/plain": [
       "torch.Size([])"
      ]
     },
     "execution_count": 8,
     "metadata": {},
     "output_type": "execute_result"
    }
   ],
   "source": [
    "train_ds[0][1].squeeze().shape"
   ]
  },
  {
   "cell_type": "code",
   "execution_count": 9,
   "id": "63de9c70-c9b4-4cfc-a755-a3922a2fa8c0",
   "metadata": {},
   "outputs": [
    {
     "data": {
      "text/plain": [
       "(1063, 125)"
      ]
     },
     "execution_count": 9,
     "metadata": {},
     "output_type": "execute_result"
    }
   ],
   "source": [
    "train_dl = DataLoader(train_ds, batch_size=16, shuffle=True, drop_last=True)\n",
    "valid_dl = DataLoader(valid_ds, batch_size=16, shuffle=False, drop_last=True)\n",
    "len(train_dl), len(valid_dl)"
   ]
  },
  {
   "cell_type": "code",
   "execution_count": 10,
   "id": "7a1d08d6-8175-4495-bcb2-bd08f4ac95ff",
   "metadata": {},
   "outputs": [],
   "source": [
    "#DataLoade"
   ]
  },
  {
   "cell_type": "code",
   "execution_count": 11,
   "id": "6f2520d7-09c2-4e0b-b066-292ef3b13941",
   "metadata": {},
   "outputs": [
    {
     "data": {
      "text/plain": [
       "(2, torch.Size([16, 1, 4096]), torch.Size([16]))"
      ]
     },
     "execution_count": 11,
     "metadata": {},
     "output_type": "execute_result"
    }
   ],
   "source": [
    "batch = next(iter(train_dl))\n",
    "len(batch), batch[0].shape, batch[1].shape"
   ]
  },
  {
   "cell_type": "code",
   "execution_count": 12,
   "id": "35df7e13-bf9d-4e3b-8d8c-f687e6599f88",
   "metadata": {},
   "outputs": [
    {
     "data": {
      "text/plain": [
       "torch.Size([16, 1, 120])"
      ]
     },
     "execution_count": 12,
     "metadata": {},
     "output_type": "execute_result"
    }
   ],
   "source": [
    "model = EffNet_b0(avg_out=120, custom_head=False)\n",
    "out = model(batch[0])\n",
    "out.shape"
   ]
  },
  {
   "cell_type": "code",
   "execution_count": 13,
   "id": "03b9125f-5523-40a0-8e11-5671c093436f",
   "metadata": {},
   "outputs": [
    {
     "data": {
      "text/plain": [
       "torch.Size([16, 1, 16])"
      ]
     },
     "execution_count": 13,
     "metadata": {},
     "output_type": "execute_result"
    }
   ],
   "source": [
    "model = EffNet_b0(out_feats=16, )#custom_head=False)\n",
    "out = model(batch[0])\n",
    "out.shape"
   ]
  },
  {
   "cell_type": "code",
   "execution_count": 29,
   "id": "0500d5f3-3b7d-4c35-b55f-eac14cd89e01",
   "metadata": {},
   "outputs": [],
   "source": [
    "#model"
   ]
  },
  {
   "cell_type": "code",
   "execution_count": 14,
   "id": "fc1e103d-6742-4f1c-83f4-723234a7028c",
   "metadata": {},
   "outputs": [],
   "source": [
    "dls = DataLoaders(train_dl, valid_dl)"
   ]
  },
  {
   "cell_type": "code",
   "execution_count": 15,
   "id": "3c71e6e0-9274-4c83-ade5-6f24d93422e2",
   "metadata": {},
   "outputs": [],
   "source": [
    "#learn = Learner(dls, model, loss_func=nn.CrossEntropyLoss())"
   ]
  },
  {
   "cell_type": "code",
   "execution_count": 16,
   "id": "27d0e0fd-3583-4268-96a6-994f0d6d59aa",
   "metadata": {},
   "outputs": [],
   "source": [
    "class compress_cb(Callback):\n",
    "    def after_pred(self):\n",
    "        self.learn.pred = self.pred.squeeze(1)"
   ]
  },
  {
   "cell_type": "code",
   "execution_count": 17,
   "id": "5e8eb4b9-5617-49e9-ad94-54a20ef05e66",
   "metadata": {},
   "outputs": [],
   "source": [
    "dls.to('cuda');\n",
    "model.to('cuda');"
   ]
  },
  {
   "cell_type": "code",
   "execution_count": 48,
   "id": "2e309c40-ba6b-45cd-ad51-a24362883ccc",
   "metadata": {},
   "outputs": [],
   "source": [
    "class ArcMarginProduct(nn.Module):\n",
    "    r\"\"\"Implement of large margin arc distance: :\n",
    "        Args:\n",
    "            in_features: size of each input sample\n",
    "            out_features: size of each output sample\n",
    "            s: norm of input feature\n",
    "            m: margin\n",
    "            cos(theta + m)\n",
    "        \"\"\"\n",
    "    def __init__(self, in_features, out_features, s=30.0, m=0.50, easy_margin=False, ls_eps=0.0):\n",
    "        super(ArcMarginProduct, self).__init__()\n",
    "        self.in_features = in_features\n",
    "        self.out_features = out_features\n",
    "        self.s = s\n",
    "        self.m = m\n",
    "        self.ls_eps = ls_eps  # label smoothing\n",
    "        self.weight = nn.Parameter(torch.FloatTensor(out_features, in_features)).to('cuda')\n",
    "        nn.init.xavier_uniform_(self.weight)\n",
    "\n",
    "        self.easy_margin = easy_margin\n",
    "        self.cos_m = math.cos(m)\n",
    "        self.sin_m = math.sin(m)\n",
    "        self.th = math.cos(math.pi - m)\n",
    "        self.mm = math.sin(math.pi - m) * m\n",
    "\n",
    "    def forward(self, input, label):\n",
    "        # --------------------------- cos(theta) & phi(theta) ---------------------------\n",
    "        cosine = F.linear(F.normalize(input), F.normalize(self.weight))\n",
    "        #sine = torch.sqrt(1.0 - torch.pow(cosine, 2))\n",
    "        sine = torch.sqrt(1.0 - torch.pow(cosine,2)).to(cosine.dtype)\n",
    "        phi = cosine * self.cos_m - sine * self.sin_m\n",
    "        if self.easy_margin:\n",
    "            phi = torch.where(cosine > 0, phi, cosine)\n",
    "        else:\n",
    "            phi = torch.where(cosine > self.th, phi, cosine - self.mm)\n",
    "        # --------------------------- convert label to one-hot ---------------------------\n",
    "        # one_hot = torch.zeros(cosine.size(), requires_grad=True, device='cuda')\n",
    "        one_hot = torch.zeros(cosine.size(), device='cuda')\n",
    "        #one_hot.scatter_(1, label.view(-1, 1).long(), 1)\n",
    "        if self.ls_eps > 0:\n",
    "            one_hot = (1 - self.ls_eps) * one_hot + self.ls_eps / self.out_features\n",
    "        # -------------torch.where(out_i = {x_i if condition_i else y_i) -------------\n",
    "        output = (one_hot * phi) + ((1.0 - one_hot) * cosine)\n",
    "        output *= self.s\n",
    "\n",
    "        return output"
   ]
  },
  {
   "cell_type": "code",
   "execution_count": 15,
   "id": "91176b02-3bc5-4b3f-a53e-2ebe862d1b22",
   "metadata": {},
   "outputs": [
    {
     "data": {
      "text/plain": [
       "torch.Size([16, 18, 16])"
      ]
     },
     "execution_count": 15,
     "metadata": {},
     "output_type": "execute_result"
    }
   ],
   "source": [
    "#F.normalize(out.squeeze(2)).shape"
   ]
  },
  {
   "cell_type": "code",
   "execution_count": 34,
   "id": "0b2f90f4-3b81-4023-a2c6-21825552e3d0",
   "metadata": {},
   "outputs": [
    {
     "data": {
      "text/plain": [
       "torch.Size([16, 18])"
      ]
     },
     "execution_count": 34,
     "metadata": {},
     "output_type": "execute_result"
    }
   ],
   "source": [
    "F.normalize(out.squeeze(1)).shape"
   ]
  },
  {
   "cell_type": "code",
   "execution_count": 41,
   "id": "2bc1fd4a-46e0-4192-92ca-cba11494d06d",
   "metadata": {},
   "outputs": [
    {
     "data": {
      "text/plain": [
       "torch.Size([16, 1])"
      ]
     },
     "execution_count": 41,
     "metadata": {},
     "output_type": "execute_result"
    }
   ],
   "source": [
    "F.normalize(batch[1].unsqueeze(1).to(torch.float)).shape"
   ]
  },
  {
   "cell_type": "code",
   "execution_count": 44,
   "id": "dbe5569f-660d-4ad5-a9b0-cd21bb7514f1",
   "metadata": {},
   "outputs": [
    {
     "data": {
      "text/plain": [
       "torch.Size([16, 1])"
      ]
     },
     "execution_count": 44,
     "metadata": {},
     "output_type": "execute_result"
    }
   ],
   "source": [
    "F.normalize(batch[1].to(torch.float).unsqueeze(1)).shape"
   ]
  },
  {
   "cell_type": "code",
   "execution_count": 17,
   "id": "ae822f98-114e-4dc2-95fe-05766ecba22c",
   "metadata": {},
   "outputs": [
    {
     "data": {
      "text/plain": [
       "torch.Size([16, 18])"
      ]
     },
     "execution_count": 17,
     "metadata": {},
     "output_type": "execute_result"
    }
   ],
   "source": [
    "#F.linear(out.squeeze(2), batch[1].squeeze(1).to(torch.float)).shape"
   ]
  },
  {
   "cell_type": "code",
   "execution_count": 46,
   "id": "eaa683d2-e873-42ac-b44e-eab5f0ae424b",
   "metadata": {},
   "outputs": [
    {
     "ename": "RuntimeError",
     "evalue": "mat1 and mat2 shapes cannot be multiplied (16x18 and 16x1)",
     "output_type": "error",
     "traceback": [
      "\u001b[0;31m---------------------------------------------------------------------------\u001b[0m",
      "\u001b[0;31mRuntimeError\u001b[0m                              Traceback (most recent call last)",
      "\u001b[0;32m<ipython-input-46-5d39542051ea>\u001b[0m in \u001b[0;36m<module>\u001b[0;34m\u001b[0m\n\u001b[0;32m----> 1\u001b[0;31m \u001b[0mF\u001b[0m\u001b[0;34m.\u001b[0m\u001b[0mlinear\u001b[0m\u001b[0;34m(\u001b[0m\u001b[0mout\u001b[0m\u001b[0;34m.\u001b[0m\u001b[0msqueeze\u001b[0m\u001b[0;34m(\u001b[0m\u001b[0;36m1\u001b[0m\u001b[0;34m)\u001b[0m\u001b[0;34m,\u001b[0m \u001b[0mbatch\u001b[0m\u001b[0;34m[\u001b[0m\u001b[0;36m1\u001b[0m\u001b[0;34m]\u001b[0m\u001b[0;34m.\u001b[0m\u001b[0munsqueeze\u001b[0m\u001b[0;34m(\u001b[0m\u001b[0;36m0\u001b[0m\u001b[0;34m)\u001b[0m\u001b[0;34m.\u001b[0m\u001b[0mto\u001b[0m\u001b[0;34m(\u001b[0m\u001b[0mtorch\u001b[0m\u001b[0;34m.\u001b[0m\u001b[0mfloat\u001b[0m\u001b[0;34m)\u001b[0m\u001b[0;34m)\u001b[0m\u001b[0;34m.\u001b[0m\u001b[0mshape\u001b[0m\u001b[0;34m\u001b[0m\u001b[0;34m\u001b[0m\u001b[0m\n\u001b[0m",
      "\u001b[0;32m~/.conda/envs/zenv/lib/python3.8/site-packages/torch/nn/functional.py\u001b[0m in \u001b[0;36mlinear\u001b[0;34m(input, weight, bias)\u001b[0m\n\u001b[1;32m   1751\u001b[0m     \u001b[0;32mif\u001b[0m \u001b[0mhas_torch_function_variadic\u001b[0m\u001b[0;34m(\u001b[0m\u001b[0minput\u001b[0m\u001b[0;34m,\u001b[0m \u001b[0mweight\u001b[0m\u001b[0;34m)\u001b[0m\u001b[0;34m:\u001b[0m\u001b[0;34m\u001b[0m\u001b[0;34m\u001b[0m\u001b[0m\n\u001b[1;32m   1752\u001b[0m         \u001b[0;32mreturn\u001b[0m \u001b[0mhandle_torch_function\u001b[0m\u001b[0;34m(\u001b[0m\u001b[0mlinear\u001b[0m\u001b[0;34m,\u001b[0m \u001b[0;34m(\u001b[0m\u001b[0minput\u001b[0m\u001b[0;34m,\u001b[0m \u001b[0mweight\u001b[0m\u001b[0;34m)\u001b[0m\u001b[0;34m,\u001b[0m \u001b[0minput\u001b[0m\u001b[0;34m,\u001b[0m \u001b[0mweight\u001b[0m\u001b[0;34m,\u001b[0m \u001b[0mbias\u001b[0m\u001b[0;34m=\u001b[0m\u001b[0mbias\u001b[0m\u001b[0;34m)\u001b[0m\u001b[0;34m\u001b[0m\u001b[0;34m\u001b[0m\u001b[0m\n\u001b[0;32m-> 1753\u001b[0;31m     \u001b[0;32mreturn\u001b[0m \u001b[0mtorch\u001b[0m\u001b[0;34m.\u001b[0m\u001b[0m_C\u001b[0m\u001b[0;34m.\u001b[0m\u001b[0m_nn\u001b[0m\u001b[0;34m.\u001b[0m\u001b[0mlinear\u001b[0m\u001b[0;34m(\u001b[0m\u001b[0minput\u001b[0m\u001b[0;34m,\u001b[0m \u001b[0mweight\u001b[0m\u001b[0;34m,\u001b[0m \u001b[0mbias\u001b[0m\u001b[0;34m)\u001b[0m\u001b[0;34m\u001b[0m\u001b[0;34m\u001b[0m\u001b[0m\n\u001b[0m\u001b[1;32m   1754\u001b[0m \u001b[0;34m\u001b[0m\u001b[0m\n\u001b[1;32m   1755\u001b[0m \u001b[0;34m\u001b[0m\u001b[0m\n",
      "\u001b[0;31mRuntimeError\u001b[0m: mat1 and mat2 shapes cannot be multiplied (16x18 and 16x1)"
     ]
    }
   ],
   "source": [
    "F.linear(out.squeeze(1), batch[1].unsqueeze(0).to(torch.float)).shape"
   ]
  },
  {
   "cell_type": "code",
   "execution_count": 18,
   "id": "5f729a7e-b7fb-417a-8dc9-5e1151c0125f",
   "metadata": {},
   "outputs": [
    {
     "data": {
      "text/plain": [
       "(torch.Size([16, 18, 16]), torch.Size([16]))"
      ]
     },
     "execution_count": 18,
     "metadata": {},
     "output_type": "execute_result"
    }
   ],
   "source": [
    "#out.squeeze(2).shape, batch[1].squeeze(1).shape"
   ]
  },
  {
   "cell_type": "code",
   "execution_count": 19,
   "id": "c65775f3-2a7a-4e45-9bdd-148c35de0b38",
   "metadata": {},
   "outputs": [
    {
     "data": {
      "text/plain": [
       "torch.Size([16, 18])"
      ]
     },
     "execution_count": 19,
     "metadata": {},
     "output_type": "execute_result"
    }
   ],
   "source": [
    "#F.linear(F.normalize(out.squeeze(2)), batch[1].squeeze(1).to(torch.float)).shape"
   ]
  },
  {
   "cell_type": "code",
   "execution_count": 49,
   "id": "5457fd86-73f7-4a7a-927f-8130ce125658",
   "metadata": {},
   "outputs": [
    {
     "data": {
      "text/plain": [
       "torch.Size([16, 18])"
      ]
     },
     "execution_count": 49,
     "metadata": {},
     "output_type": "execute_result"
    }
   ],
   "source": [
    "ArcMarginProduct(18, 18)(out.squeeze(1).to('cuda'), batch[1].to(torch.float).to('cuda')).shape"
   ]
  },
  {
   "cell_type": "code",
   "execution_count": 21,
   "id": "cd76c035-fcf6-4f1b-a008-587450289940",
   "metadata": {},
   "outputs": [
    {
     "data": {
      "text/plain": [
       "torch.Size([16])"
      ]
     },
     "execution_count": 21,
     "metadata": {},
     "output_type": "execute_result"
    }
   ],
   "source": [
    "batch[1].shape"
   ]
  },
  {
   "cell_type": "code",
   "execution_count": 50,
   "id": "a53c987d-77c6-42db-91f6-261403716902",
   "metadata": {},
   "outputs": [],
   "source": [
    "class compress_cb(Callback):\n",
    "    def after_pred(self):\n",
    "        self.learn.pred = self.pred.squeeze(1)\n",
    "        print(self.learn.yb[0].shape)\n",
    "        self.learn.yb = tuple(self.yb[0].squeeze(1))\n",
    "        print(self.learn.yb[0].shape)"
   ]
  },
  {
   "cell_type": "code",
   "execution_count": 29,
   "id": "66f510c3-101e-4e3f-a2dd-d92a07829412",
   "metadata": {},
   "outputs": [
    {
     "data": {
      "text/plain": [
       "torch.Size([16, 1, 120])"
      ]
     },
     "execution_count": 29,
     "metadata": {},
     "output_type": "execute_result"
    }
   ],
   "source": [
    "out = learn.model(batch[0])\n",
    "out.shape"
   ]
  },
  {
   "cell_type": "code",
   "execution_count": 26,
   "id": "a3e4f08b-9320-46cc-9afe-05da76249688",
   "metadata": {},
   "outputs": [
    {
     "data": {
      "text/plain": [
       "(torch.Size([16, 1, 18]), torch.Size([16]))"
      ]
     },
     "execution_count": 26,
     "metadata": {},
     "output_type": "execute_result"
    }
   ],
   "source": [
    "model = EffNet_b0(out_feats=18,)# custom_head=False)\n",
    "out = model(batch[0])\n",
    "out.shape, batch[1].shape"
   ]
  },
  {
   "cell_type": "code",
   "execution_count": 24,
   "id": "0a402aff-e7c6-466b-a573-f2c6242dfca0",
   "metadata": {},
   "outputs": [
    {
     "data": {
      "text/plain": [
       "tensor(3.1197, grad_fn=<NllLossBackward>)"
      ]
     },
     "execution_count": 24,
     "metadata": {},
     "output_type": "execute_result"
    }
   ],
   "source": [
    "nn.CrossEntropyLoss()(out.squeeze(1), batch[1])"
   ]
  },
  {
   "cell_type": "code",
   "execution_count": 29,
   "id": "75a54300-5c76-49d3-86ed-13df2a64200a",
   "metadata": {},
   "outputs": [],
   "source": [
    "learn = Learner(dls, model, loss_func=nn.CrossEntropyLoss(),\n",
    "               cbs=[compress_cb], \n",
    "                metrics=[accuracy]).to_fp16()"
   ]
  },
  {
   "cell_type": "code",
   "execution_count": 16,
   "id": "84a63606-5a64-4b0f-a11b-6ca5258b75b0",
   "metadata": {},
   "outputs": [],
   "source": [
    "#for x in range(len(valid_dl)):\n",
    "#    batch = next(iter(valid_dl))\n",
    "#    out = learn.model(batch[0])\n",
    "#    print(nn.CrossEntropyLoss()(out, batch[1]))"
   ]
  },
  {
   "cell_type": "code",
   "execution_count": null,
   "id": "e9cdb8be-0157-435a-a016-5729fe95afae",
   "metadata": {},
   "outputs": [],
   "source": [
    "#out.dtype"
   ]
  },
  {
   "cell_type": "code",
   "execution_count": 1,
   "id": "351320ef-289e-4738-8331-9b7964024622",
   "metadata": {},
   "outputs": [],
   "source": [
    "#learn.lr_find()"
   ]
  },
  {
   "cell_type": "code",
   "execution_count": 30,
   "id": "0b8f0082-2e80-410a-9d0e-232a53203b16",
   "metadata": {},
   "outputs": [
    {
     "data": {
      "text/html": [
       "<table border=\"1\" class=\"dataframe\">\n",
       "  <thead>\n",
       "    <tr style=\"text-align: left;\">\n",
       "      <th>epoch</th>\n",
       "      <th>train_loss</th>\n",
       "      <th>valid_loss</th>\n",
       "      <th>accuracy</th>\n",
       "      <th>time</th>\n",
       "    </tr>\n",
       "  </thead>\n",
       "  <tbody>\n",
       "    <tr>\n",
       "      <td>0</td>\n",
       "      <td>2.126462</td>\n",
       "      <td>1.835746</td>\n",
       "      <td>0.485000</td>\n",
       "      <td>02:06</td>\n",
       "    </tr>\n",
       "  </tbody>\n",
       "</table>"
      ],
      "text/plain": [
       "<IPython.core.display.HTML object>"
      ]
     },
     "metadata": {},
     "output_type": "display_data"
    },
    {
     "data": {
      "text/html": [
       "<table border=\"1\" class=\"dataframe\">\n",
       "  <thead>\n",
       "    <tr style=\"text-align: left;\">\n",
       "      <th>epoch</th>\n",
       "      <th>train_loss</th>\n",
       "      <th>valid_loss</th>\n",
       "      <th>accuracy</th>\n",
       "      <th>time</th>\n",
       "    </tr>\n",
       "  </thead>\n",
       "  <tbody>\n",
       "    <tr>\n",
       "      <td>0</td>\n",
       "      <td>2.013575</td>\n",
       "      <td>1.403061</td>\n",
       "      <td>0.588500</td>\n",
       "      <td>02:05</td>\n",
       "    </tr>\n",
       "    <tr>\n",
       "      <td>1</td>\n",
       "      <td>2.001874</td>\n",
       "      <td>1.427351</td>\n",
       "      <td>0.664000</td>\n",
       "      <td>02:06</td>\n",
       "    </tr>\n",
       "    <tr>\n",
       "      <td>2</td>\n",
       "      <td>1.925462</td>\n",
       "      <td>1.277372</td>\n",
       "      <td>0.695000</td>\n",
       "      <td>02:04</td>\n",
       "    </tr>\n",
       "    <tr>\n",
       "      <td>3</td>\n",
       "      <td>1.827261</td>\n",
       "      <td>1.251863</td>\n",
       "      <td>0.767500</td>\n",
       "      <td>01:59</td>\n",
       "    </tr>\n",
       "    <tr>\n",
       "      <td>4</td>\n",
       "      <td>1.879972</td>\n",
       "      <td>1.295908</td>\n",
       "      <td>0.726000</td>\n",
       "      <td>02:02</td>\n",
       "    </tr>\n",
       "  </tbody>\n",
       "</table>"
      ],
      "text/plain": [
       "<IPython.core.display.HTML object>"
      ]
     },
     "metadata": {},
     "output_type": "display_data"
    }
   ],
   "source": [
    "learn.fine_tune(5)"
   ]
  },
  {
   "cell_type": "markdown",
   "id": "88aa171e-955a-4611-a50b-8136e394a201",
   "metadata": {},
   "source": [
    "Looks like things are working with a normal classification setup via cross entropy -- let's now see how things work if we use the arcface!"
   ]
  },
  {
   "cell_type": "code",
   "execution_count": 64,
   "id": "944a8a6a-d17e-4897-a790-b3deaa0f3803",
   "metadata": {},
   "outputs": [],
   "source": [
    "class amp_cb(Callback):\n",
    "    def __init__(self):\n",
    "        self.amp = ArcMarginProduct(18, 18)\n",
    "    def after_pred(self):\n",
    "        self.learn.pred = self.pred.squeeze(1)\n",
    "        self.learn.pred = self.amp(self.pred, self.y)"
   ]
  },
  {
   "cell_type": "code",
   "execution_count": 62,
   "id": "f5b4cddd-fc33-42b9-8d45-4d306506ef21",
   "metadata": {},
   "outputs": [],
   "source": [
    "learn = Learner(dls, model, loss_func=CrossEntropyLossFlat(),\n",
    "               cbs=[amp_cb], \n",
    "                metrics=[accuracy]).to_fp16()"
   ]
  },
  {
   "cell_type": "code",
   "execution_count": 63,
   "id": "d0fc8fdb-338a-47e0-a938-0a8d810e1615",
   "metadata": {},
   "outputs": [
    {
     "data": {
      "text/html": [
       "<table border=\"1\" class=\"dataframe\">\n",
       "  <thead>\n",
       "    <tr style=\"text-align: left;\">\n",
       "      <th>epoch</th>\n",
       "      <th>train_loss</th>\n",
       "      <th>valid_loss</th>\n",
       "      <th>accuracy</th>\n",
       "      <th>time</th>\n",
       "    </tr>\n",
       "  </thead>\n",
       "  <tbody>\n",
       "    <tr>\n",
       "      <td>0</td>\n",
       "      <td>nan</td>\n",
       "      <td>nan</td>\n",
       "      <td>0.000000</td>\n",
       "      <td>01:35</td>\n",
       "    </tr>\n",
       "  </tbody>\n",
       "</table>"
      ],
      "text/plain": [
       "<IPython.core.display.HTML object>"
      ]
     },
     "metadata": {},
     "output_type": "display_data"
    }
   ],
   "source": [
    "learn.fit(1)"
   ]
  },
  {
   "cell_type": "code",
   "execution_count": null,
   "id": "3a2ad364-ebc5-45d2-8c1c-2e2d7510304e",
   "metadata": {},
   "outputs": [],
   "source": [
    "ArcMarginProduct(18, 18)(out.squeeze(1).to('cuda'), batch[1].to(torch.float).to('cuda')).shape"
   ]
  }
 ],
 "metadata": {
  "kernelspec": {
   "display_name": "zenv",
   "language": "python",
   "name": "zenv"
  },
  "language_info": {
   "codemirror_mode": {
    "name": "ipython",
    "version": 3
   },
   "file_extension": ".py",
   "mimetype": "text/x-python",
   "name": "python",
   "nbconvert_exporter": "python",
   "pygments_lexer": "ipython3",
   "version": "3.8.10"
  }
 },
 "nbformat": 4,
 "nbformat_minor": 5
}
