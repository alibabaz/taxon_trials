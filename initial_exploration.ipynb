{
 "cells": [
  {
   "cell_type": "code",
   "execution_count": 1,
   "id": "2bce2060-6d39-433f-a491-e8b43d796b9a",
   "metadata": {},
   "outputs": [],
   "source": [
    "import numpy as np\n",
    "import pandas as pd\n",
    "import os\n",
    "import h5py\n",
    "from exabiome.nn.loader import read_dataset, LazySeqDataset\n",
    "import argparse\n",
    "import torch"
   ]
  },
  {
   "cell_type": "code",
   "execution_count": 4,
   "id": "af7d7d27-9b0a-46c3-8004-7f62a57cbad2",
   "metadata": {},
   "outputs": [],
   "source": [
    "path = '/global/homes/a/azaidi'\n",
    "#os.listdir(path)"
   ]
  },
  {
   "cell_type": "code",
   "execution_count": 5,
   "id": "dd529c08-3647-4165-be2c-ff8dd907253e",
   "metadata": {},
   "outputs": [
    {
     "data": {
      "text/plain": [
       "'/global/homes/a/azaidi/ar122_r202.toy.input.h5'"
      ]
     },
     "execution_count": 5,
     "metadata": {},
     "output_type": "execute_result"
    }
   ],
   "source": [
    "f_path = path +'/ar122_r202.toy.input.h5'\n",
    "f_path"
   ]
  },
  {
   "cell_type": "code",
   "execution_count": 6,
   "id": "c93f71c7-ff62-405c-841f-e113a822e4a7",
   "metadata": {},
   "outputs": [],
   "source": [
    "#dataset, io = read_dataset(f_path)"
   ]
  },
  {
   "cell_type": "code",
   "execution_count": 7,
   "id": "cde800fe-042e-41f7-a81e-ee4603a6fa14",
   "metadata": {},
   "outputs": [],
   "source": [
    "hparams = argparse.Namespace(**{'load': False,\n",
    "                            'window': 4096,\n",
    "                            'step': 4096,\n",
    "                             'classify': True,\n",
    "                               'tgt_tax_lvl': \"phylum\",\n",
    "                               'fwd_only': True})"
   ]
  },
  {
   "cell_type": "code",
   "execution_count": 8,
   "id": "2c9fe37b-b014-469a-b754-0fb6798b79a6",
   "metadata": {},
   "outputs": [],
   "source": [
    "chunks = LazySeqDataset(hparams, path=f_path, keep_open=True)"
   ]
  },
  {
   "cell_type": "code",
   "execution_count": 10,
   "id": "2aa7e522-66c4-4d20-935b-3ab415d9e4a9",
   "metadata": {},
   "outputs": [
    {
     "data": {
      "text/plain": [
       "<exabiome.nn.loader.LazySeqDataset at 0x2aaaaec29730>"
      ]
     },
     "execution_count": 10,
     "metadata": {},
     "output_type": "execute_result"
    }
   ],
   "source": [
    "chunks"
   ]
  },
  {
   "cell_type": "code",
   "execution_count": 12,
   "id": "9627a271-efb5-4272-932b-54df97748df3",
   "metadata": {},
   "outputs": [
    {
     "data": {
      "text/plain": [
       "19010"
      ]
     },
     "execution_count": 12,
     "metadata": {},
     "output_type": "execute_result"
    }
   ],
   "source": [
    "len(chunks)"
   ]
  },
  {
   "cell_type": "code",
   "execution_count": 14,
   "id": "6f4cf37a-f662-4768-b23a-5641ff77f7f1",
   "metadata": {},
   "outputs": [
    {
     "data": {
      "text/plain": [
       "(0, tensor([1, 1, 9,  ..., 0, 1, 1]), tensor(15), 0)"
      ]
     },
     "execution_count": 14,
     "metadata": {},
     "output_type": "execute_result"
    }
   ],
   "source": [
    "chunks[0]"
   ]
  },
  {
   "cell_type": "code",
   "execution_count": 16,
   "id": "47514012-395e-43f0-a1eb-a314c7f80017",
   "metadata": {},
   "outputs": [
    {
     "data": {
      "text/plain": [
       "torch.Size([4096])"
      ]
     },
     "execution_count": 16,
     "metadata": {},
     "output_type": "execute_result"
    }
   ],
   "source": [
    "chunks[0][1].shape"
   ]
  },
  {
   "cell_type": "code",
   "execution_count": 48,
   "id": "040e330a-bb9e-4553-9419-a1ad623d00c3",
   "metadata": {},
   "outputs": [
    {
     "data": {
      "text/plain": [
       "1180"
      ]
     },
     "execution_count": 48,
     "metadata": {},
     "output_type": "execute_result"
    }
   ],
   "source": [
    "sample = chunks[2][1]\n",
    "len(sample)"
   ]
  },
  {
   "cell_type": "markdown",
   "id": "34a3cada-4c0c-4ba3-9802-330ec78afb18",
   "metadata": {},
   "source": [
    "As seen above, the chunks do not come padded -- the padding method below may not be the most efficient, but it'll get the job done for now -- may also want to go further up the data pipeline at some point"
   ]
  },
  {
   "cell_type": "code",
   "execution_count": 59,
   "id": "d2309922-9184-4a35-a4e8-77014ab9ed68",
   "metadata": {},
   "outputs": [
    {
     "data": {
      "text/plain": [
       "tensor([0., 0., 0.,  ..., 0., 0., 0.])"
      ]
     },
     "execution_count": 59,
     "metadata": {},
     "output_type": "execute_result"
    }
   ],
   "source": [
    "zs = torch.zeros(4096)\n",
    "zs"
   ]
  },
  {
   "cell_type": "code",
   "execution_count": 71,
   "id": "4dbdced7-0d7c-4def-b152-0d4dc1bfee4d",
   "metadata": {},
   "outputs": [],
   "source": [
    "#https://discuss.pytorch.org/t/how-to-do-padding-based-on-lengths/24442/2?u=aza\n",
    "zs[:len(sample)] = sample"
   ]
  },
  {
   "cell_type": "code",
   "execution_count": 72,
   "id": "2223fb5a-46ba-42dd-b8ea-eb8249214964",
   "metadata": {},
   "outputs": [
    {
     "data": {
      "text/plain": [
       "tensor([10., 10., 10.,  ...,  0.,  0.,  0.])"
      ]
     },
     "execution_count": 72,
     "metadata": {},
     "output_type": "execute_result"
    }
   ],
   "source": [
    "zs"
   ]
  },
  {
   "cell_type": "code",
   "execution_count": 24,
   "id": "1b5f01b6-2d9f-40d1-a1a3-cf3cd8ddc939",
   "metadata": {},
   "outputs": [],
   "source": [
    "from torch.utils.data import Dataset, DataLoader"
   ]
  },
  {
   "cell_type": "code",
   "execution_count": 64,
   "id": "e979c8ec-2093-4f48-96b1-9cf87c75cdfa",
   "metadata": {},
   "outputs": [],
   "source": [
    "class taxon_ds(Dataset):\n",
    "    def __init__(self, chunks):\n",
    "        self.chunks = chunks\n",
    "    def __len__(self):\n",
    "        return len(self.chunks)\n",
    "    def __getitem__(self, idx):\n",
    "        x = chunks[idx][1]\n",
    "        if (len(x) < 4096):\n",
    "            padded = torch.zeros(4096)\n",
    "            padded[:len(x)] = x\n",
    "            x = padded\n",
    "        y = chunks[idx][2]\n",
    "        return (x, y)"
   ]
  },
  {
   "cell_type": "code",
   "execution_count": 65,
   "id": "70f5258a-1c2d-4f20-b748-c76f329b7479",
   "metadata": {},
   "outputs": [],
   "source": [
    "ds = taxon_ds(chunks)"
   ]
  },
  {
   "cell_type": "code",
   "execution_count": 66,
   "id": "0e4324b6-739c-4a85-a1ed-7681d3053de4",
   "metadata": {},
   "outputs": [
    {
     "data": {
      "text/plain": [
       "(tensor([1, 1, 9,  ..., 0, 1, 1]), tensor(15))"
      ]
     },
     "execution_count": 66,
     "metadata": {},
     "output_type": "execute_result"
    }
   ],
   "source": [
    "ds[0]"
   ]
  },
  {
   "cell_type": "markdown",
   "id": "e749c54d-8e37-4063-92d7-5ceb3465f5f9",
   "metadata": {},
   "source": [
    "That dataset above should be using a transform :D"
   ]
  },
  {
   "cell_type": "code",
   "execution_count": 75,
   "id": "12363e4e-3933-4807-a2aa-68c838866039",
   "metadata": {},
   "outputs": [
    {
     "data": {
      "text/plain": [
       "1189"
      ]
     },
     "execution_count": 75,
     "metadata": {},
     "output_type": "execute_result"
    }
   ],
   "source": [
    "dl = DataLoader(ds, batch_size=16, shuffle=True)\n",
    "len(dl)"
   ]
  },
  {
   "cell_type": "code",
   "execution_count": 76,
   "id": "1c4cd2d0-353f-48a4-84e8-fc1a3484ba8d",
   "metadata": {},
   "outputs": [
    {
     "data": {
      "text/plain": [
       "(2, torch.Size([16, 4096]), torch.Size([16]))"
      ]
     },
     "execution_count": 76,
     "metadata": {},
     "output_type": "execute_result"
    }
   ],
   "source": [
    "batch = next(iter(dl))\n",
    "len(batch), batch[0].shape, batch[1].shape"
   ]
  },
  {
   "cell_type": "markdown",
   "id": "35a06c82-df53-436c-84d5-c2e4202f2f2c",
   "metadata": {},
   "source": [
    "We now have functioning dataloaders!"
   ]
  },
  {
   "cell_type": "code",
   "execution_count": 78,
   "id": "477b789e-6e65-4326-aaab-3d2fdd385fa0",
   "metadata": {},
   "outputs": [],
   "source": [
    "sample = batch[0]"
   ]
  },
  {
   "cell_type": "markdown",
   "id": "9f196c0e-eb7b-44c7-b68a-a60511a6dd0c",
   "metadata": {},
   "source": [
    "Let's see how we'll pass a batch through a convolutional layer -- will need to add a dimension to the tensor in order to provide the channel dimension that the conv layer is expecting"
   ]
  },
  {
   "cell_type": "code",
   "execution_count": 88,
   "id": "269a4788-e94a-4a34-9341-7f4af8d7acfa",
   "metadata": {},
   "outputs": [],
   "source": [
    "import torch.nn as nn\n",
    "#torch.nn.Conv1d??"
   ]
  },
  {
   "cell_type": "code",
   "execution_count": 89,
   "id": "b55d2bee-8026-4404-9853-1b05aaca0836",
   "metadata": {},
   "outputs": [
    {
     "data": {
      "text/plain": [
       "torch.Size([16, 2, 4094])"
      ]
     },
     "execution_count": 89,
     "metadata": {},
     "output_type": "execute_result"
    }
   ],
   "source": [
    "nn.Conv1d(1, 2, 3)(sample.unsqueeze(1)).shape"
   ]
  },
  {
   "cell_type": "markdown",
   "id": "50862377-8942-4497-9f92-6cb608463a9b",
   "metadata": {},
   "source": [
    "Looks like it's working :-P"
   ]
  },
  {
   "cell_type": "code",
   "execution_count": null,
   "id": "9d93172f-c364-4d79-9302-1ece878a8fe0",
   "metadata": {},
   "outputs": [],
   "source": []
  }
 ],
 "metadata": {
  "kernelspec": {
   "display_name": "zenv",
   "language": "python",
   "name": "zenv"
  },
  "language_info": {
   "codemirror_mode": {
    "name": "ipython",
    "version": 3
   },
   "file_extension": ".py",
   "mimetype": "text/x-python",
   "name": "python",
   "nbconvert_exporter": "python",
   "pygments_lexer": "ipython3",
   "version": "3.8.10"
  }
 },
 "nbformat": 4,
 "nbformat_minor": 5
}
