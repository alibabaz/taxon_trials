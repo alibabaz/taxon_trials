{
 "cells": [
  {
   "cell_type": "markdown",
   "id": "91ccd3df-4734-4713-a8de-57b633a31b84",
   "metadata": {},
   "source": [
    "Based off of the efficientnet in Timm: https://github.com/rwightman/pytorch-image-models/blob/master/timm/models/efficientnet.py  we will reporpose this architecture for our use with 1-dimension sequence data"
   ]
  },
  {
   "cell_type": "code",
   "execution_count": 1,
   "id": "40d72063-2687-4a72-a486-a1470da92a57",
   "metadata": {},
   "outputs": [],
   "source": [
    "import torch\n",
    "import numpy as np\n",
    "import pandas as pd\n",
    "import os\n",
    "import h5py\n",
    "from exabiome.nn.loader import read_dataset, LazySeqDataset\n",
    "import argparse\n",
    "from torch.utils.data import Dataset, DataLoader\n",
    "import torch.nn as nn\n",
    "import torch.nn.functional as F"
   ]
  },
  {
   "cell_type": "code",
   "execution_count": 2,
   "id": "aec0806b-6c0e-4b2d-9c15-57e6029bc5de",
   "metadata": {},
   "outputs": [],
   "source": [
    "path = '/global/homes/a/azaidi/ar122_r202.toy.input.h5'"
   ]
  },
  {
   "cell_type": "code",
   "execution_count": 3,
   "id": "d3906eea-a618-4a41-912e-f7044712abd3",
   "metadata": {},
   "outputs": [],
   "source": [
    "hparams = argparse.Namespace(**{'load': False,\n",
    "                            'window': 4096,\n",
    "                            'step': 4096,\n",
    "                             'classify': True,\n",
    "                               'tgt_tax_lvl': \"phylum\",\n",
    "                               'fwd_only': True})"
   ]
  },
  {
   "cell_type": "code",
   "execution_count": 4,
   "id": "d8c9e7b7-9f59-4008-b52c-b796e5c6389e",
   "metadata": {},
   "outputs": [
    {
     "data": {
      "text/plain": [
       "19010"
      ]
     },
     "execution_count": 4,
     "metadata": {},
     "output_type": "execute_result"
    }
   ],
   "source": [
    "chunks = LazySeqDataset(hparams, path=path, keep_open=True)\n",
    "len(chunks)"
   ]
  },
  {
   "cell_type": "code",
   "execution_count": 6,
   "id": "65b84139-7b46-4d6b-84c8-a410c9ae23b0",
   "metadata": {},
   "outputs": [],
   "source": [
    "def old_pad_seq(seq):\n",
    "    if(len(seq) < 4096):\n",
    "        padded = torch.zeros(4096)\n",
    "        padded[:len(seq)] = seq\n",
    "        return padded\n",
    "    else:\n",
    "        return seq"
   ]
  },
  {
   "cell_type": "code",
   "execution_count": 7,
   "id": "876f2f59-8585-4a5e-a30e-c3bd6d62a96a",
   "metadata": {},
   "outputs": [],
   "source": [
    "class taxon_ds(Dataset):\n",
    "    def __init__(self, chunks, transform=None):\n",
    "        self.chunks = chunks\n",
    "        self.transform = transform\n",
    "    \n",
    "    def __len__(self):\n",
    "        return len(self.chunks)\n",
    "    \n",
    "    def __getitem__(self, idx):\n",
    "        x = chunks[idx][1]\n",
    "        if self.transform:\n",
    "            x = self.transform(x)\n",
    "        y = chunks[idx][2]\n",
    "        return (x.unsqueeze(0), y)"
   ]
  },
  {
   "cell_type": "code",
   "execution_count": 9,
   "id": "67c95aeb-f936-485d-9dea-799b7729f0a0",
   "metadata": {},
   "outputs": [
    {
     "name": "stdout",
     "output_type": "stream",
     "text": [
      "CPU times: user 3 µs, sys: 1e+03 ns, total: 4 µs\n",
      "Wall time: 8.34 µs\n"
     ]
    }
   ],
   "source": [
    "%time\n",
    "ds = taxon_ds(chunks, old_pad_seq)"
   ]
  },
  {
   "cell_type": "code",
   "execution_count": 10,
   "id": "25c2caa2-3655-4d1b-a2da-463d04a068f7",
   "metadata": {},
   "outputs": [
    {
     "data": {
      "text/plain": [
       "1189"
      ]
     },
     "execution_count": 10,
     "metadata": {},
     "output_type": "execute_result"
    }
   ],
   "source": [
    "dl = DataLoader(ds, batch_size=16, shuffle=True)\n",
    "len(dl)"
   ]
  },
  {
   "cell_type": "code",
   "execution_count": 11,
   "id": "7d48d4f1-1c88-473a-8fd6-3f08ae71fbec",
   "metadata": {},
   "outputs": [
    {
     "data": {
      "text/plain": [
       "(torch.Size([16, 1, 4096]), torch.Size([16]))"
      ]
     },
     "execution_count": 11,
     "metadata": {},
     "output_type": "execute_result"
    }
   ],
   "source": [
    "batch = next(iter(dl))\n",
    "batch[0].shape, batch[1].shape"
   ]
  },
  {
   "cell_type": "markdown",
   "id": "f6bd2b07-4f2e-4b95-af80-875499b93a54",
   "metadata": {},
   "source": [
    "# An Efficientnet has basically three parts: \n",
    "**(0) Base (Feet) --> (1) Body --> (2) Head**\n",
    "\n",
    "Within these three parts -- we are **mainly** only using three tools/units of computation:\n",
    "\n",
    "(0) Conv1d: https://pytorch.org/docs/stable/generated/torch.nn.Conv1d.html <br>\n",
    "(1) BatchNorm1d: https://pytorch.org/docs/stable/generated/torch.nn.BatchNorm1d.html <br>\n",
    "(2) SiLU: https://pytorch.org/docs/stable/generated/torch.nn.SiLU.html <br>\n",
    "\n",
    "*There are a few other items that are added as well, that we will see below\n",
    "\n",
    "<br>**Base** (feet):<br>\n",
    "0) Conv1d --> 1) BatchNorm1d --> 2) SiLU\n",
    "\n",
    "**Head**: <br>\n",
    "(0) Conv1d --> (1) BatchNorm1d --> (2) SiLU --> (3) SelectAdaptivePool1d --> (4) Linear\n",
    "\n",
    "*the base & head are relatively straightforward -- we'll implement both below:*"
   ]
  },
  {
   "cell_type": "code",
   "execution_count": 21,
   "id": "70b9664e-a352-4e47-a43f-919ee5d05c66",
   "metadata": {},
   "outputs": [],
   "source": [
    "def get_conv_bn(in_ch=1, out_ch=2, ks=2, stride=2, padding=None):\n",
    "    return nn.Sequential(\n",
    "        nn.Conv1d(in_channels = in_ch, out_channels = out_ch,\n",
    "                 kernel_size = ks, stride = stride, \n",
    "                  padding=padding, bias=False),\n",
    "        nn.BatchNorm1d(num_features = out_ch)\n",
    "    )"
   ]
  },
  {
   "cell_type": "code",
   "execution_count": 76,
   "id": "b38ec0e7-92d0-46b5-bf25-0a4db3f69815",
   "metadata": {},
   "outputs": [],
   "source": [
    "def conv(in_ch, out_ch, ks, stride, padding=0, activation=False):\n",
    "    res = get_conv_bn(in_ch, out_ch, ks, stride, padding)\n",
    "    if activation:\n",
    "        res = nn.Sequential(res, nn.SiLU(inplace=True))\n",
    "    return res"
   ]
  },
  {
   "cell_type": "markdown",
   "id": "675abab2-1350-4f86-b473-81b63147aa74",
   "metadata": {},
   "source": [
    "Let's make a function to add the SiLU layer"
   ]
  },
  {
   "cell_type": "code",
   "execution_count": 28,
   "id": "97722585-fbcf-42d9-8492-3fb12fd921c4",
   "metadata": {},
   "outputs": [
    {
     "data": {
      "text/plain": [
       "Sequential(\n",
       "  (0): Sequential(\n",
       "    (0): Conv1d(1, 2, kernel_size=(3,), stride=(4,), padding=(None,), bias=False)\n",
       "    (1): BatchNorm1d(2, eps=1e-05, momentum=0.1, affine=True, track_running_stats=True)\n",
       "  )\n",
       "  (1): SiLU(inplace=True)\n",
       ")"
      ]
     },
     "execution_count": 28,
     "metadata": {},
     "output_type": "execute_result"
    }
   ],
   "source": [
    "conv(1,2,3,4, activation=True)"
   ]
  },
  {
   "cell_type": "markdown",
   "id": "b263c5b1-5cbf-450e-9581-4d6c11f94e34",
   "metadata": {},
   "source": [
    "This was the old base layer fxn"
   ]
  },
  {
   "cell_type": "code",
   "execution_count": 29,
   "id": "e8cc33f7-1ad6-41d0-8a81-06a8aed67f81",
   "metadata": {},
   "outputs": [],
   "source": [
    "def get_base_layer(in_chans=1, out_chans=32, ks=3, stride=2, padding=1):\n",
    "    return nn.Sequential(\n",
    "        nn.Conv1d(in_channels= in_chans, out_channels= out_chans, \n",
    "                  kernel_size= ks, stride= stride, \n",
    "                  padding=padding, bias=False),\n",
    "        nn.BatchNorm1d(num_features = out_chans),\n",
    "        nn.SiLU(inplace=True))"
   ]
  },
  {
   "cell_type": "markdown",
   "id": "118e6e5b-148e-4913-bf19-5a36fd86b8be",
   "metadata": {},
   "source": [
    "Now we can just use our conv function to replace that + this will be the building block for the entire model"
   ]
  },
  {
   "cell_type": "code",
   "execution_count": 122,
   "id": "3d37a03a-0c45-49c4-bd70-0736be0ee990",
   "metadata": {},
   "outputs": [],
   "source": [
    "def get_base_layer(in_ch=1, out_ch=32, ks=3, stride=2, padding=1):\n",
    "    return conv(in_ch=in_ch, out_ch=out_ch, ks=ks, \n",
    "               stride=stride, padding=padding, activation=True)"
   ]
  },
  {
   "cell_type": "code",
   "execution_count": 123,
   "id": "50203182-f15f-4f4f-83b2-e1a94e698908",
   "metadata": {},
   "outputs": [
    {
     "data": {
      "text/plain": [
       "torch.Size([16, 32, 2048])"
      ]
     },
     "execution_count": 123,
     "metadata": {},
     "output_type": "execute_result"
    }
   ],
   "source": [
    "get_base_layer()(batch[0]).shape"
   ]
  },
  {
   "cell_type": "markdown",
   "id": "fb1789f7-4e5c-4768-8bd0-194bdc737231",
   "metadata": {},
   "source": [
    "The head had a bit more going on, but we can still simplify it"
   ]
  },
  {
   "cell_type": "code",
   "execution_count": 34,
   "id": "9a97cca5-ca2b-4b03-9c68-c53ea5388f49",
   "metadata": {},
   "outputs": [],
   "source": [
    "def get_head_layer(in_chans=320, out_chans=1280, ks=1, stride=1,\n",
    "              avg_out_feats=10, lin_out_feats=1):\n",
    "    return nn.Sequential(\n",
    "        nn.Conv1d(in_channels= in_chans, out_channels= out_chans, \n",
    "                  kernel_size= ks, stride= stride, bias=False),\n",
    "        nn.BatchNorm1d(num_features = out_chans),\n",
    "        nn.SiLU(inplace=True),\n",
    "        nn.AdaptiveAvgPool1d(output_size=avg_out_feats),\n",
    "        nn.Linear(in_features=avg_out_feats, out_features=lin_out_feats))"
   ]
  },
  {
   "cell_type": "code",
   "execution_count": 36,
   "id": "fccf8f18-18d8-40e5-8798-79f5a92b3a54",
   "metadata": {},
   "outputs": [
    {
     "data": {
      "text/plain": [
       "Sequential(\n",
       "  (0): Conv1d(320, 1280, kernel_size=(1,), stride=(1,), bias=False)\n",
       "  (1): BatchNorm1d(1280, eps=1e-05, momentum=0.1, affine=True, track_running_stats=True)\n",
       "  (2): SiLU(inplace=True)\n",
       "  (3): AdaptiveAvgPool1d(output_size=10)\n",
       "  (4): Linear(in_features=10, out_features=1, bias=True)\n",
       ")"
      ]
     },
     "execution_count": 36,
     "metadata": {},
     "output_type": "execute_result"
    }
   ],
   "source": [
    "get_head_layer()"
   ]
  },
  {
   "cell_type": "code",
   "execution_count": 44,
   "id": "58dff3c1-66cd-4e36-8ad5-840c5b296aa7",
   "metadata": {},
   "outputs": [],
   "source": [
    "def get_head_layer(in_chans=320, out_chans=1280, ks=1, stride=1,\n",
    "              avg_out_feats=200, lin_out_feats=1):\n",
    "    return nn.Sequential(\n",
    "        conv(in_chans, out_chans, ks, stride, activation=True),\n",
    "        nn.AdaptiveAvgPool1d(output_size=avg_out_feats),\n",
    "        nn.Linear(in_features=avg_out_feats, out_features=lin_out_feats))"
   ]
  },
  {
   "cell_type": "code",
   "execution_count": 45,
   "id": "3c94e5d0-7670-47b8-88a6-8fc5db8c8e18",
   "metadata": {},
   "outputs": [
    {
     "data": {
      "text/plain": [
       "Sequential(\n",
       "  (0): Sequential(\n",
       "    (0): Sequential(\n",
       "      (0): Conv1d(320, 1280, kernel_size=(1,), stride=(1,), padding=(None,), bias=False)\n",
       "      (1): BatchNorm1d(1280, eps=1e-05, momentum=0.1, affine=True, track_running_stats=True)\n",
       "    )\n",
       "    (1): SiLU(inplace=True)\n",
       "  )\n",
       "  (1): AdaptiveAvgPool1d(output_size=200)\n",
       "  (2): Linear(in_features=200, out_features=1, bias=True)\n",
       ")"
      ]
     },
     "execution_count": 45,
     "metadata": {},
     "output_type": "execute_result"
    }
   ],
   "source": [
    "get_head_layer()"
   ]
  },
  {
   "cell_type": "markdown",
   "id": "fe2d3ec1-8ff9-4638-8107-ac927aaef45d",
   "metadata": {},
   "source": [
    "Not too much shorter, but better nonetheless"
   ]
  },
  {
   "cell_type": "markdown",
   "id": "f8b3c42d-549d-4769-91b4-a98a2daef516",
   "metadata": {},
   "source": [
    "**Body**:<br>\n",
    "(0) DepthwiseSeparableConv <br>\n",
    "(1) InvertedResidual (two in a row) <br>\n",
    "(2) InvertedResidual (two in a row) <br>\n",
    "(3) InvertedResidual (three in a row) <br>\n",
    "(4) InvertedResidual (three in a row) <br>\n",
    "(5) InvertedResidual (three in a row) <br>\n",
    "(6) InvertedResidual (one) <br>\n",
    "\n",
    "*ok so what are these layers in the body?*"
   ]
  },
  {
   "cell_type": "markdown",
   "id": "e79f13e8-bf77-4a76-89c1-2002f67cbdf4",
   "metadata": {},
   "source": [
    "# DepthwiseSeperable:\n",
    "(0) Conv1d <br>\n",
    "(1) BatchNorm1d <br>\n",
    "(2) SiLU <br>\n",
    "(3) **Squeeze Excite**<br>\n",
    "(4) Conv1d <br>\n",
    "(5) BatchNorm1d <br>\n",
    "(6) Identity <br>"
   ]
  },
  {
   "cell_type": "markdown",
   "id": "469d5b6d-fb8b-4719-bf06-71495d5d23cc",
   "metadata": {},
   "source": [
    "# InvertedResidual:\n",
    "(0) Conv1d <br>\n",
    "(1) BatchNorm1d <br>\n",
    "(2) SiLU <br>\n",
    "(3) Conv1d <br>\n",
    "(4) BatchNorm1d <br>\n",
    "(5) SiLU <br>\n",
    "(6) **Squeeze Excite**<br>\n",
    "(7) Conv1d <br>\n",
    "(8) BatchNorm1d <br>"
   ]
  },
  {
   "cell_type": "markdown",
   "id": "99a8dc6e-f5fc-495c-bd1e-d5a0ee437d50",
   "metadata": {},
   "source": [
    "**\"Squeeze Excite\" = Conv1d --> SiLU --> Conv1d**\n",
    "\n",
    "Let's define our squeeze excite function -- since we have two conv layers, let's use tuples for our parameters for now -- the parameters in the paper are much more structured for the squueze excite layer, but we will keep this optionality in place (for now)\n",
    "\n",
    "In the paper the squueze excite takes the number of filters from 240 --> 10 --> 240. This would be easier to encode into the function below, but would make it harder to tweak these values"
   ]
  },
  {
   "cell_type": "code",
   "execution_count": 47,
   "id": "d11342f6-6228-42a7-8501-d456ce10f0d0",
   "metadata": {},
   "outputs": [],
   "source": [
    "def get_sq_ex(in_ch= (1,1), out_ch= (2,2), ks= (2,2), stride= (2,2)):\n",
    "    return nn.Sequential(\n",
    "        nn.Conv1d(in_channels= in_ch[0], out_channels= out_ch[0], \n",
    "                  kernel_size= ks[0], stride= stride[0]),\n",
    "        nn.SiLU(),\n",
    "        nn.Conv1d(in_channels= in_ch[1], out_channels= out_ch[1], \n",
    "                  kernel_size= ks[1], stride= stride[1])\n",
    "    )"
   ]
  },
  {
   "cell_type": "code",
   "execution_count": 48,
   "id": "20077310-ba2b-4795-8e49-9d4dfead9ec2",
   "metadata": {},
   "outputs": [
    {
     "data": {
      "text/plain": [
       "Sequential(\n",
       "  (0): Conv1d(1, 2, kernel_size=(2,), stride=(2,))\n",
       "  (1): SiLU()\n",
       "  (2): Conv1d(1, 2, kernel_size=(2,), stride=(2,))\n",
       ")"
      ]
     },
     "execution_count": 48,
     "metadata": {},
     "output_type": "execute_result"
    }
   ],
   "source": [
    "#uncomment to confirm the above function works\n",
    "get_sq_ex()"
   ]
  },
  {
   "cell_type": "markdown",
   "id": "91bffe8f-0a59-40aa-aec9-d684b46e9edc",
   "metadata": {},
   "source": [
    "The above functions have simplified our work to produce the desired layers -- we have everything we need to create both the layer types in our models body\n",
    "\n",
    "**DepthwiseSeperable**: <br>\n",
    "(0) conv<br>\n",
    "(1) get_sq_ex <br>\n",
    "(2) conv <br>\n",
    "(3) Identity <br>\n",
    "\n",
    "**InvertedResidual**: <br>\n",
    "(0) conv <br>\n",
    "(1) conv <br>\n",
    "(2) get_sq_ex <br>\n",
    "(3) conv <br>"
   ]
  },
  {
   "cell_type": "markdown",
   "id": "311bdd51-a50b-46b0-8014-21a79851dac9",
   "metadata": {},
   "source": [
    "A squeeze-excite unit compresses the number of channels down and then expands it back to the original amount"
   ]
  },
  {
   "cell_type": "code",
   "execution_count": 83,
   "id": "babadb41-f254-4491-9577-3325ba7a1eae",
   "metadata": {},
   "outputs": [],
   "source": [
    "def get_dep_sep(in_ch, out_ch, ks=3, mid_ch=8):\n",
    "    return nn.Sequential(\n",
    "        conv(in_ch=in_ch, out_ch=in_ch, ks=ks, stride=1, activation=True),\n",
    "        get_sq_ex(in_ch=(in_ch, mid_ch), \n",
    "                  out_ch=(mid_ch, in_ch)),\n",
    "        conv(in_ch=in_ch, out_ch=out_ch, ks=1, stride=1),\n",
    "        nn.Identity()\n",
    "    )"
   ]
  },
  {
   "cell_type": "code",
   "execution_count": 84,
   "id": "1b0cfa72-dd1b-41ea-9427-b65d84a69ee2",
   "metadata": {},
   "outputs": [
    {
     "data": {
      "text/plain": [
       "Sequential(\n",
       "  (0): Sequential(\n",
       "    (0): Sequential(\n",
       "      (0): Conv1d(32, 32, kernel_size=(3,), stride=(1,), bias=False)\n",
       "      (1): BatchNorm1d(32, eps=1e-05, momentum=0.1, affine=True, track_running_stats=True)\n",
       "    )\n",
       "    (1): SiLU(inplace=True)\n",
       "  )\n",
       "  (1): Sequential(\n",
       "    (0): Conv1d(32, 8, kernel_size=(2,), stride=(2,))\n",
       "    (1): SiLU()\n",
       "    (2): Conv1d(8, 32, kernel_size=(2,), stride=(2,))\n",
       "  )\n",
       "  (2): Sequential(\n",
       "    (0): Conv1d(32, 16, kernel_size=(1,), stride=(1,), bias=False)\n",
       "    (1): BatchNorm1d(16, eps=1e-05, momentum=0.1, affine=True, track_running_stats=True)\n",
       "  )\n",
       "  (3): Identity()\n",
       ")"
      ]
     },
     "execution_count": 84,
     "metadata": {},
     "output_type": "execute_result"
    }
   ],
   "source": [
    "get_dep_sep(32, 16)"
   ]
  },
  {
   "cell_type": "code",
   "execution_count": 104,
   "id": "b738503e-18f6-49b5-bc0b-f2f05b38ca6f",
   "metadata": {},
   "outputs": [
    {
     "data": {
      "text/plain": [
       "torch.Size([16, 16, 511])"
      ]
     },
     "execution_count": 104,
     "metadata": {},
     "output_type": "execute_result"
    }
   ],
   "source": [
    "#let's just make sure things are moving forward with our depthwise seperable layer\n",
    "model = nn.Sequential(\n",
    "    get_base_layer(),\n",
    "    get_dep_sep(32, 16))\n",
    "model(batch[0]).shape"
   ]
  },
  {
   "cell_type": "code",
   "execution_count": 97,
   "id": "4ace2379-d6d7-4cd7-9710-1dde0c8f904a",
   "metadata": {},
   "outputs": [
    {
     "data": {
      "text/plain": [
       "Sequential(\n",
       "  (0): Conv1d(96, 4, kernel_size=(2,), stride=(2,))\n",
       "  (1): SiLU()\n",
       "  (2): Conv1d(4, 96, kernel_size=(2,), stride=(2,))\n",
       ")"
      ]
     },
     "execution_count": 97,
     "metadata": {},
     "output_type": "execute_result"
    }
   ],
   "source": [
    "get_sq_ex((96,4),(4,96))"
   ]
  },
  {
   "cell_type": "code",
   "execution_count": 113,
   "id": "651e5eed-6f79-4cc1-9e68-cf71228b2d23",
   "metadata": {},
   "outputs": [
    {
     "data": {
      "text/plain": [
       "torch.Size([16, 24, 256])"
      ]
     },
     "execution_count": 113,
     "metadata": {},
     "output_type": "execute_result"
    }
   ],
   "source": [
    "nn.Sequential(\n",
    "    model,\n",
    "    conv(16,96,1,1, activation=True),\n",
    "    conv(96,96, ks=3,stride=2,padding=1, activation=True),\n",
    "    get_sq_ex((96,4), (4,96), ks=(1,1), stride=(1,1)),\n",
    "    conv(96, 24, 1,1)\n",
    ")(batch[0]).shape"
   ]
  },
  {
   "cell_type": "markdown",
   "id": "599d80bc-c9aa-49cd-9e29-12023e7f6bc5",
   "metadata": {},
   "source": [
    "(1) The first conv layer in the inverted residuals ALWAYS has a kernel size of 1 and stride of 1, with no padding.\n",
    "\n",
    "(2) For the second conv layer, the kernel size, stride and padding can be different in each layer\n",
    "\n",
    "(3) The squeeze excite layer always has a kernel size of 1 and stride of 1\n",
    "\n",
    "(4) The last conv layer always has a stride of 1 and kernel size of 1"
   ]
  },
  {
   "cell_type": "code",
   "execution_count": 114,
   "id": "5e324489-bf4e-4c80-9846-741d5cd426a6",
   "metadata": {},
   "outputs": [],
   "source": [
    "def get_inv_res(in_ch, mid_ch, out_ch, sq_ch=4, ks=1, stride=1, padding=1):\n",
    "    return nn.Sequential(\n",
    "        conv(in_ch=in_ch, out_ch=mid_ch, ks=1, stride=1, activation=True),\n",
    "        conv(in_ch=mid_ch, out_ch=mid_ch, ks=ks, stride=stride, \n",
    "             padding=padding, activation=True),\n",
    "        get_sq_ex((mid_ch,sq_ch), (sq_ch, mid_ch) ,ks=(1,1), stride=(1,1)),\n",
    "        conv(in_ch=mid_ch, out_ch=out_ch, ks=1, stride=1)\n",
    "    )"
   ]
  },
  {
   "cell_type": "code",
   "execution_count": 118,
   "id": "bb9a7b4f-454a-4cf3-a77b-1ca8b342469a",
   "metadata": {},
   "outputs": [
    {
     "data": {
      "text/plain": [
       "torch.Size([16, 24, 256])"
      ]
     },
     "execution_count": 118,
     "metadata": {},
     "output_type": "execute_result"
    }
   ],
   "source": [
    "nn.Sequential(\n",
    "    model,\n",
    "    get_inv_res(16,96,24, 4, ks=3, stride=2,padding=1))(batch[0]).shape"
   ]
  },
  {
   "cell_type": "code",
   "execution_count": 119,
   "id": "ed14f6e5-7660-4c97-9529-d9c2fd692986",
   "metadata": {},
   "outputs": [
    {
     "data": {
      "text/plain": [
       "torch.Size([16, 24, 256])"
      ]
     },
     "execution_count": 119,
     "metadata": {},
     "output_type": "execute_result"
    }
   ],
   "source": [
    "nn.Sequential(\n",
    "    get_base_layer(),\n",
    "    get_dep_sep(in_ch=32,out_ch=16),\n",
    "    get_inv_res(in_ch=16, mid_ch=96, out_ch= 24, \n",
    "                sq_ch=4, ks=3, stride=2, padding=1)\n",
    ")(batch[0]).shape"
   ]
  },
  {
   "cell_type": "markdown",
   "id": "349a561c-e4e0-48f3-b672-62388e2e3e93",
   "metadata": {},
   "source": [
    "Looks like things are working! :)"
   ]
  },
  {
   "cell_type": "code",
   "execution_count": null,
   "id": "06c8fd18-479d-485a-a7ae-4e0a40b66f4e",
   "metadata": {},
   "outputs": [],
   "source": []
  }
 ],
 "metadata": {
  "kernelspec": {
   "display_name": "zenv",
   "language": "python",
   "name": "zenv"
  },
  "language_info": {
   "codemirror_mode": {
    "name": "ipython",
    "version": 3
   },
   "file_extension": ".py",
   "mimetype": "text/x-python",
   "name": "python",
   "nbconvert_exporter": "python",
   "pygments_lexer": "ipython3",
   "version": "3.8.10"
  }
 },
 "nbformat": 4,
 "nbformat_minor": 5
}
